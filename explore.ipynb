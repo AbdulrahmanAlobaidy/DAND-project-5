{
 "cells": [
  {
   "cell_type": "markdown",
   "metadata": {},
   "source": [
    "<center>\n",
    "    <h1 style=\"font-size: 32px;\">Data Analysis and Visualization</h1>\n",
    "    <h2>Abdulrahman Mohammed Alobaidy</h2>\n",
    "    <h3>Cohort 9</h3>\n",
    "    <h3>Data Analyst Nanodegree Program</h3>\n",
    "    <h4>Email: <a href=\"mailto:AbdulrahmanAlobaidy2001@gmail.com\">AbdulrahmanAlobaidy2001@gmail.com</a></h4>\n",
    "</center>\n",
    "<hr>"
   ]
  },
  {
   "cell_type": "markdown",
   "metadata": {},
   "source": [
    "# About the Dataset\n",
    "---"
   ]
  },
  {
   "cell_type": "markdown",
   "metadata": {},
   "source": [
    "This data set contains information about the **Ford Go** bike-sharing system, the dataset contains data points a little more than 180,000 data points for the month of February of the year 2019."
   ]
  },
  {
   "cell_type": "markdown",
   "metadata": {},
   "source": [
    "## Dataset Features"
   ]
  },
  {
   "cell_type": "markdown",
   "metadata": {},
   "source": [
    "The dataset consists of the following 16 features:\n",
    "* `duration_sec`: Duration of the trip.\n",
    "* `start_time`: Timestamp of the start of the trip.\n",
    "* `end_time`: Timestamp of the start of the trip.\n",
    "* `start_station_id`: ID of the start station.\n",
    "* `start_station_name`: Name of the start station.\n",
    "* `start_station_latitude`, `start_station_longitude`: Coordinates  of the start station.\n",
    "* `end_station_id`: ID of the end station.\n",
    "* `end_station_name`: Name of the end station.\n",
    "* `end_station_latitude`, `end_station_longitude`: Coordinates  of the end station.\n",
    "* `bike_id`: ID of the bike used.\n",
    "* `user_type`: Type of user, Subscriber or Customer.\n",
    "* `member_birth_year`: Year of birth of user.\n",
    "* `member_gender`: Gender of the user.\n",
    "* `bike_share_for_all_trip`: Whether the bike was part of the **Bike Share For All** program.\n",
    "\n",
    "The cleaned version of the dataset contains these 6 additional engineered features:\n",
    "* `duration_hour`: `duration_sec` converted to hour-format.\n",
    "* `duration_min`: `duration_sec` converted to minute-format.\n",
    "* `hour-of-day`: Extracted from `start_time`.\n",
    "* `user_age`: Extracted from the `member_birth_year` column, i.e. current year minus the year in the `member_birht_year`.\n",
    "* `age_range`: `user_age` categorized into age bins of 10 using this format [start, end).\n",
    "* `route`: Route of trip, (`start_station_name` -> `end_station_name`)."
   ]
  },
  {
   "cell_type": "markdown",
   "metadata": {},
   "source": [
    "# Features of Interest"
   ]
  },
  {
   "cell_type": "markdown",
   "metadata": {},
   "source": [
    "The following is a list of the features of interest, i.e. the features that we will be focusing on and analyzing, along with extracted and enigneered ones which are present in the cleaned dataset, classified into either **Quantitative** or **Qualitative**:\n",
    "1. **Quantitative**:\n",
    "    * `duration_min`\n",
    "    * `hour_of_day`\n",
    "    * `user_age`\n",
    "2. **Qualitative**:\n",
    "    * `start_station_name`\n",
    "    * `end_station_name`\n",
    "    * `route`\n",
    "    * `user_type`\n",
    "    * `age_range`\n",
    "    * `member_gender`\n",
    "    * `bike_share_for_all_trip`"
   ]
  },
  {
   "cell_type": "markdown",
   "metadata": {},
   "source": [
    "During the following analysis we aim to discover patterns formed by the data points and relationships between the aforementioned features that will help us answer any questions that we might have."
   ]
  },
  {
   "cell_type": "markdown",
   "metadata": {},
   "source": [
    "# Contents\n",
    "---\n",
    "\n",
    "1. [Setting Up Libraries](#Setting-Up-Libraries)\n",
    "\n",
    "\n",
    "2. [Data Wrangling](#Data-Wrangling)\n",
    "\n",
    "    a. [Data Gathering](#Data-Gathering)\n",
    "\n",
    "    b. [Data Assessment](#Data-Assessment)\n",
    "\n",
    "    c. [Data Cleaning](#Data-Cleaning)\n",
    "\n",
    "\n",
    "3. [Data Analysis](#Data-Analysis)\n",
    "\n",
    "    a. [Univariate Analysis](#Univariate-Analysis)\n",
    "\n",
    "    b. [Bivariate Analysis](#Bivariate-Analysis)\n",
    "\n",
    "    c. [Multivariate Analysis](#Multivariate-Analysis)"
   ]
  },
  {
   "cell_type": "markdown",
   "metadata": {},
   "source": [
    "# Setting Up Libraries\n",
    "---"
   ]
  },
  {
   "cell_type": "code",
   "execution_count": 1,
   "metadata": {},
   "outputs": [],
   "source": [
    "import pandas as pd\n",
    "import numpy as np\n",
    "import matplotlib.pyplot as plt\n",
    "import seaborn as sb\n",
    "\n",
    "%matplotlib inline"
   ]
  },
  {
   "cell_type": "markdown",
   "metadata": {},
   "source": [
    "# Data Wrangling\n",
    "---"
   ]
  },
  {
   "cell_type": "markdown",
   "metadata": {},
   "source": [
    "## Data Gathering"
   ]
  },
  {
   "cell_type": "code",
   "execution_count": 343,
   "metadata": {},
   "outputs": [
    {
     "data": {
      "text/html": [
       "<div>\n",
       "<style scoped>\n",
       "    .dataframe tbody tr th:only-of-type {\n",
       "        vertical-align: middle;\n",
       "    }\n",
       "\n",
       "    .dataframe tbody tr th {\n",
       "        vertical-align: top;\n",
       "    }\n",
       "\n",
       "    .dataframe thead th {\n",
       "        text-align: right;\n",
       "    }\n",
       "</style>\n",
       "<table border=\"1\" class=\"dataframe\">\n",
       "  <thead>\n",
       "    <tr style=\"text-align: right;\">\n",
       "      <th></th>\n",
       "      <th>duration_sec</th>\n",
       "      <th>start_time</th>\n",
       "      <th>end_time</th>\n",
       "      <th>start_station_id</th>\n",
       "      <th>start_station_name</th>\n",
       "      <th>start_station_latitude</th>\n",
       "      <th>start_station_longitude</th>\n",
       "      <th>end_station_id</th>\n",
       "      <th>end_station_name</th>\n",
       "      <th>end_station_latitude</th>\n",
       "      <th>end_station_longitude</th>\n",
       "      <th>bike_id</th>\n",
       "      <th>user_type</th>\n",
       "      <th>member_birth_year</th>\n",
       "      <th>member_gender</th>\n",
       "      <th>bike_share_for_all_trip</th>\n",
       "    </tr>\n",
       "  </thead>\n",
       "  <tbody>\n",
       "    <tr>\n",
       "      <th>0</th>\n",
       "      <td>52185</td>\n",
       "      <td>2019-02-28 17:32:10.1450</td>\n",
       "      <td>2019-03-01 08:01:55.9750</td>\n",
       "      <td>21.0</td>\n",
       "      <td>Montgomery St BART Station (Market St at 2nd St)</td>\n",
       "      <td>37.789625</td>\n",
       "      <td>-122.400811</td>\n",
       "      <td>13.0</td>\n",
       "      <td>Commercial St at Montgomery St</td>\n",
       "      <td>37.794231</td>\n",
       "      <td>-122.402923</td>\n",
       "      <td>4902</td>\n",
       "      <td>Customer</td>\n",
       "      <td>1984.0</td>\n",
       "      <td>Male</td>\n",
       "      <td>No</td>\n",
       "    </tr>\n",
       "    <tr>\n",
       "      <th>1</th>\n",
       "      <td>42521</td>\n",
       "      <td>2019-02-28 18:53:21.7890</td>\n",
       "      <td>2019-03-01 06:42:03.0560</td>\n",
       "      <td>23.0</td>\n",
       "      <td>The Embarcadero at Steuart St</td>\n",
       "      <td>37.791464</td>\n",
       "      <td>-122.391034</td>\n",
       "      <td>81.0</td>\n",
       "      <td>Berry St at 4th St</td>\n",
       "      <td>37.775880</td>\n",
       "      <td>-122.393170</td>\n",
       "      <td>2535</td>\n",
       "      <td>Customer</td>\n",
       "      <td>NaN</td>\n",
       "      <td>NaN</td>\n",
       "      <td>No</td>\n",
       "    </tr>\n",
       "    <tr>\n",
       "      <th>2</th>\n",
       "      <td>61854</td>\n",
       "      <td>2019-02-28 12:13:13.2180</td>\n",
       "      <td>2019-03-01 05:24:08.1460</td>\n",
       "      <td>86.0</td>\n",
       "      <td>Market St at Dolores St</td>\n",
       "      <td>37.769305</td>\n",
       "      <td>-122.426826</td>\n",
       "      <td>3.0</td>\n",
       "      <td>Powell St BART Station (Market St at 4th St)</td>\n",
       "      <td>37.786375</td>\n",
       "      <td>-122.404904</td>\n",
       "      <td>5905</td>\n",
       "      <td>Customer</td>\n",
       "      <td>1972.0</td>\n",
       "      <td>Male</td>\n",
       "      <td>No</td>\n",
       "    </tr>\n",
       "    <tr>\n",
       "      <th>3</th>\n",
       "      <td>36490</td>\n",
       "      <td>2019-02-28 17:54:26.0100</td>\n",
       "      <td>2019-03-01 04:02:36.8420</td>\n",
       "      <td>375.0</td>\n",
       "      <td>Grove St at Masonic Ave</td>\n",
       "      <td>37.774836</td>\n",
       "      <td>-122.446546</td>\n",
       "      <td>70.0</td>\n",
       "      <td>Central Ave at Fell St</td>\n",
       "      <td>37.773311</td>\n",
       "      <td>-122.444293</td>\n",
       "      <td>6638</td>\n",
       "      <td>Subscriber</td>\n",
       "      <td>1989.0</td>\n",
       "      <td>Other</td>\n",
       "      <td>No</td>\n",
       "    </tr>\n",
       "    <tr>\n",
       "      <th>4</th>\n",
       "      <td>1585</td>\n",
       "      <td>2019-02-28 23:54:18.5490</td>\n",
       "      <td>2019-03-01 00:20:44.0740</td>\n",
       "      <td>7.0</td>\n",
       "      <td>Frank H Ogawa Plaza</td>\n",
       "      <td>37.804562</td>\n",
       "      <td>-122.271738</td>\n",
       "      <td>222.0</td>\n",
       "      <td>10th Ave at E 15th St</td>\n",
       "      <td>37.792714</td>\n",
       "      <td>-122.248780</td>\n",
       "      <td>4898</td>\n",
       "      <td>Subscriber</td>\n",
       "      <td>1974.0</td>\n",
       "      <td>Male</td>\n",
       "      <td>Yes</td>\n",
       "    </tr>\n",
       "  </tbody>\n",
       "</table>\n",
       "</div>"
      ],
      "text/plain": [
       "   duration_sec                start_time                  end_time  \\\n",
       "0         52185  2019-02-28 17:32:10.1450  2019-03-01 08:01:55.9750   \n",
       "1         42521  2019-02-28 18:53:21.7890  2019-03-01 06:42:03.0560   \n",
       "2         61854  2019-02-28 12:13:13.2180  2019-03-01 05:24:08.1460   \n",
       "3         36490  2019-02-28 17:54:26.0100  2019-03-01 04:02:36.8420   \n",
       "4          1585  2019-02-28 23:54:18.5490  2019-03-01 00:20:44.0740   \n",
       "\n",
       "   start_station_id                                start_station_name  \\\n",
       "0              21.0  Montgomery St BART Station (Market St at 2nd St)   \n",
       "1              23.0                     The Embarcadero at Steuart St   \n",
       "2              86.0                           Market St at Dolores St   \n",
       "3             375.0                           Grove St at Masonic Ave   \n",
       "4               7.0                               Frank H Ogawa Plaza   \n",
       "\n",
       "   start_station_latitude  start_station_longitude  end_station_id  \\\n",
       "0               37.789625              -122.400811            13.0   \n",
       "1               37.791464              -122.391034            81.0   \n",
       "2               37.769305              -122.426826             3.0   \n",
       "3               37.774836              -122.446546            70.0   \n",
       "4               37.804562              -122.271738           222.0   \n",
       "\n",
       "                               end_station_name  end_station_latitude  \\\n",
       "0                Commercial St at Montgomery St             37.794231   \n",
       "1                            Berry St at 4th St             37.775880   \n",
       "2  Powell St BART Station (Market St at 4th St)             37.786375   \n",
       "3                        Central Ave at Fell St             37.773311   \n",
       "4                         10th Ave at E 15th St             37.792714   \n",
       "\n",
       "   end_station_longitude  bike_id   user_type  member_birth_year  \\\n",
       "0            -122.402923     4902    Customer             1984.0   \n",
       "1            -122.393170     2535    Customer                NaN   \n",
       "2            -122.404904     5905    Customer             1972.0   \n",
       "3            -122.444293     6638  Subscriber             1989.0   \n",
       "4            -122.248780     4898  Subscriber             1974.0   \n",
       "\n",
       "  member_gender bike_share_for_all_trip  \n",
       "0          Male                      No  \n",
       "1           NaN                      No  \n",
       "2          Male                      No  \n",
       "3         Other                      No  \n",
       "4          Male                     Yes  "
      ]
     },
     "execution_count": 343,
     "metadata": {},
     "output_type": "execute_result"
    }
   ],
   "source": [
    "df = pd.read_csv('201902-fordgobike-tripdata.csv')\n",
    "df.head()"
   ]
  },
  {
   "cell_type": "code",
   "execution_count": 323,
   "metadata": {},
   "outputs": [
    {
     "data": {
      "text/plain": [
       "(183412, 16)"
      ]
     },
     "execution_count": 323,
     "metadata": {},
     "output_type": "execute_result"
    }
   ],
   "source": [
    "df.shape"
   ]
  },
  {
   "cell_type": "markdown",
   "metadata": {},
   "source": [
    "## Data Assessment"
   ]
  },
  {
   "cell_type": "code",
   "execution_count": 228,
   "metadata": {},
   "outputs": [
    {
     "name": "stdout",
     "output_type": "stream",
     "text": [
      "<class 'pandas.core.frame.DataFrame'>\n",
      "RangeIndex: 183412 entries, 0 to 183411\n",
      "Data columns (total 16 columns):\n",
      " #   Column                   Non-Null Count   Dtype  \n",
      "---  ------                   --------------   -----  \n",
      " 0   duration_sec             183412 non-null  int64  \n",
      " 1   start_time               183412 non-null  object \n",
      " 2   end_time                 183412 non-null  object \n",
      " 3   start_station_id         183215 non-null  float64\n",
      " 4   start_station_name       183215 non-null  object \n",
      " 5   start_station_latitude   183412 non-null  float64\n",
      " 6   start_station_longitude  183412 non-null  float64\n",
      " 7   end_station_id           183215 non-null  float64\n",
      " 8   end_station_name         183215 non-null  object \n",
      " 9   end_station_latitude     183412 non-null  float64\n",
      " 10  end_station_longitude    183412 non-null  float64\n",
      " 11  bike_id                  183412 non-null  int64  \n",
      " 12  user_type                183412 non-null  object \n",
      " 13  member_birth_year        175147 non-null  float64\n",
      " 14  member_gender            175147 non-null  object \n",
      " 15  bike_share_for_all_trip  183412 non-null  object \n",
      "dtypes: float64(7), int64(2), object(7)\n",
      "memory usage: 22.4+ MB\n"
     ]
    }
   ],
   "source": [
    "df.info()"
   ]
  },
  {
   "cell_type": "markdown",
   "metadata": {},
   "source": [
    "1. `duration_sec` should be trasformed into hour-format.\n",
    "2. `start_time` and `end_time` should be of datatype `datetime` instead of `object`.\n",
    "3. `member_birth_year` should be of datatype `int64` instead of `float64`, it would be better if we had a column that specifies the age of the user based on the current year and the user's birth year."
   ]
  },
  {
   "cell_type": "code",
   "execution_count": 229,
   "metadata": {},
   "outputs": [
    {
     "data": {
      "text/plain": [
       "duration_sec                  0\n",
       "start_time                    0\n",
       "end_time                      0\n",
       "start_station_id            197\n",
       "start_station_name          197\n",
       "start_station_latitude        0\n",
       "start_station_longitude       0\n",
       "end_station_id              197\n",
       "end_station_name            197\n",
       "end_station_latitude          0\n",
       "end_station_longitude         0\n",
       "bike_id                       0\n",
       "user_type                     0\n",
       "member_birth_year          8265\n",
       "member_gender              8265\n",
       "bike_share_for_all_trip       0\n",
       "dtype: int64"
      ]
     },
     "execution_count": 229,
     "metadata": {},
     "output_type": "execute_result"
    }
   ],
   "source": [
    "df.isna().sum()"
   ]
  },
  {
   "cell_type": "code",
   "execution_count": 230,
   "metadata": {},
   "outputs": [
    {
     "data": {
      "text/html": [
       "<div>\n",
       "<style scoped>\n",
       "    .dataframe tbody tr th:only-of-type {\n",
       "        vertical-align: middle;\n",
       "    }\n",
       "\n",
       "    .dataframe tbody tr th {\n",
       "        vertical-align: top;\n",
       "    }\n",
       "\n",
       "    .dataframe thead th {\n",
       "        text-align: right;\n",
       "    }\n",
       "</style>\n",
       "<table border=\"1\" class=\"dataframe\">\n",
       "  <thead>\n",
       "    <tr style=\"text-align: right;\">\n",
       "      <th></th>\n",
       "      <th>duration_sec</th>\n",
       "      <th>start_time</th>\n",
       "      <th>end_time</th>\n",
       "      <th>start_station_id</th>\n",
       "      <th>start_station_name</th>\n",
       "      <th>start_station_latitude</th>\n",
       "      <th>start_station_longitude</th>\n",
       "      <th>end_station_id</th>\n",
       "      <th>end_station_name</th>\n",
       "      <th>end_station_latitude</th>\n",
       "      <th>end_station_longitude</th>\n",
       "      <th>bike_id</th>\n",
       "      <th>user_type</th>\n",
       "      <th>member_birth_year</th>\n",
       "      <th>member_gender</th>\n",
       "      <th>bike_share_for_all_trip</th>\n",
       "    </tr>\n",
       "  </thead>\n",
       "  <tbody>\n",
       "    <tr>\n",
       "      <th>475</th>\n",
       "      <td>1709</td>\n",
       "      <td>2019-02-28 20:55:53.9320</td>\n",
       "      <td>2019-02-28 21:24:23.7380</td>\n",
       "      <td>NaN</td>\n",
       "      <td>NaN</td>\n",
       "      <td>37.40</td>\n",
       "      <td>-121.94</td>\n",
       "      <td>NaN</td>\n",
       "      <td>NaN</td>\n",
       "      <td>37.40</td>\n",
       "      <td>-121.93</td>\n",
       "      <td>4211</td>\n",
       "      <td>Customer</td>\n",
       "      <td>1991.0</td>\n",
       "      <td>Female</td>\n",
       "      <td>No</td>\n",
       "    </tr>\n",
       "    <tr>\n",
       "      <th>1733</th>\n",
       "      <td>1272</td>\n",
       "      <td>2019-02-28 18:32:34.2730</td>\n",
       "      <td>2019-02-28 18:53:46.7270</td>\n",
       "      <td>NaN</td>\n",
       "      <td>NaN</td>\n",
       "      <td>37.40</td>\n",
       "      <td>-121.94</td>\n",
       "      <td>NaN</td>\n",
       "      <td>NaN</td>\n",
       "      <td>37.41</td>\n",
       "      <td>-121.96</td>\n",
       "      <td>4174</td>\n",
       "      <td>Subscriber</td>\n",
       "      <td>1980.0</td>\n",
       "      <td>Male</td>\n",
       "      <td>No</td>\n",
       "    </tr>\n",
       "    <tr>\n",
       "      <th>3625</th>\n",
       "      <td>142</td>\n",
       "      <td>2019-02-28 17:10:46.5290</td>\n",
       "      <td>2019-02-28 17:13:09.4310</td>\n",
       "      <td>NaN</td>\n",
       "      <td>NaN</td>\n",
       "      <td>37.41</td>\n",
       "      <td>-121.95</td>\n",
       "      <td>NaN</td>\n",
       "      <td>NaN</td>\n",
       "      <td>37.41</td>\n",
       "      <td>-121.96</td>\n",
       "      <td>4283</td>\n",
       "      <td>Subscriber</td>\n",
       "      <td>1988.0</td>\n",
       "      <td>Male</td>\n",
       "      <td>No</td>\n",
       "    </tr>\n",
       "    <tr>\n",
       "      <th>4070</th>\n",
       "      <td>585</td>\n",
       "      <td>2019-02-28 16:28:45.9340</td>\n",
       "      <td>2019-02-28 16:38:31.3320</td>\n",
       "      <td>NaN</td>\n",
       "      <td>NaN</td>\n",
       "      <td>37.39</td>\n",
       "      <td>-121.93</td>\n",
       "      <td>NaN</td>\n",
       "      <td>NaN</td>\n",
       "      <td>37.40</td>\n",
       "      <td>-121.92</td>\n",
       "      <td>4089</td>\n",
       "      <td>Subscriber</td>\n",
       "      <td>1984.0</td>\n",
       "      <td>Male</td>\n",
       "      <td>Yes</td>\n",
       "    </tr>\n",
       "    <tr>\n",
       "      <th>5654</th>\n",
       "      <td>509</td>\n",
       "      <td>2019-02-28 12:30:17.1310</td>\n",
       "      <td>2019-02-28 12:38:46.3290</td>\n",
       "      <td>NaN</td>\n",
       "      <td>NaN</td>\n",
       "      <td>37.40</td>\n",
       "      <td>-121.92</td>\n",
       "      <td>NaN</td>\n",
       "      <td>NaN</td>\n",
       "      <td>37.39</td>\n",
       "      <td>-121.93</td>\n",
       "      <td>4089</td>\n",
       "      <td>Subscriber</td>\n",
       "      <td>1984.0</td>\n",
       "      <td>Male</td>\n",
       "      <td>Yes</td>\n",
       "    </tr>\n",
       "    <tr>\n",
       "      <th>...</th>\n",
       "      <td>...</td>\n",
       "      <td>...</td>\n",
       "      <td>...</td>\n",
       "      <td>...</td>\n",
       "      <td>...</td>\n",
       "      <td>...</td>\n",
       "      <td>...</td>\n",
       "      <td>...</td>\n",
       "      <td>...</td>\n",
       "      <td>...</td>\n",
       "      <td>...</td>\n",
       "      <td>...</td>\n",
       "      <td>...</td>\n",
       "      <td>...</td>\n",
       "      <td>...</td>\n",
       "      <td>...</td>\n",
       "    </tr>\n",
       "    <tr>\n",
       "      <th>176154</th>\n",
       "      <td>1447</td>\n",
       "      <td>2019-02-02 12:03:04.5440</td>\n",
       "      <td>2019-02-02 12:27:12.2670</td>\n",
       "      <td>NaN</td>\n",
       "      <td>NaN</td>\n",
       "      <td>37.40</td>\n",
       "      <td>-121.93</td>\n",
       "      <td>NaN</td>\n",
       "      <td>NaN</td>\n",
       "      <td>37.40</td>\n",
       "      <td>-121.93</td>\n",
       "      <td>4249</td>\n",
       "      <td>Customer</td>\n",
       "      <td>1984.0</td>\n",
       "      <td>Male</td>\n",
       "      <td>No</td>\n",
       "    </tr>\n",
       "    <tr>\n",
       "      <th>179730</th>\n",
       "      <td>309</td>\n",
       "      <td>2019-02-01 12:59:45.9690</td>\n",
       "      <td>2019-02-01 13:04:55.4260</td>\n",
       "      <td>NaN</td>\n",
       "      <td>NaN</td>\n",
       "      <td>37.40</td>\n",
       "      <td>-121.94</td>\n",
       "      <td>NaN</td>\n",
       "      <td>NaN</td>\n",
       "      <td>37.40</td>\n",
       "      <td>-121.93</td>\n",
       "      <td>4249</td>\n",
       "      <td>Customer</td>\n",
       "      <td>1987.0</td>\n",
       "      <td>Female</td>\n",
       "      <td>No</td>\n",
       "    </tr>\n",
       "    <tr>\n",
       "      <th>179970</th>\n",
       "      <td>659</td>\n",
       "      <td>2019-02-01 12:17:37.6750</td>\n",
       "      <td>2019-02-01 12:28:37.0140</td>\n",
       "      <td>NaN</td>\n",
       "      <td>NaN</td>\n",
       "      <td>37.41</td>\n",
       "      <td>-121.96</td>\n",
       "      <td>NaN</td>\n",
       "      <td>NaN</td>\n",
       "      <td>37.41</td>\n",
       "      <td>-121.94</td>\n",
       "      <td>4092</td>\n",
       "      <td>Subscriber</td>\n",
       "      <td>1999.0</td>\n",
       "      <td>Female</td>\n",
       "      <td>No</td>\n",
       "    </tr>\n",
       "    <tr>\n",
       "      <th>180106</th>\n",
       "      <td>2013</td>\n",
       "      <td>2019-02-01 11:33:55.1470</td>\n",
       "      <td>2019-02-01 12:07:28.9400</td>\n",
       "      <td>NaN</td>\n",
       "      <td>NaN</td>\n",
       "      <td>37.40</td>\n",
       "      <td>-121.94</td>\n",
       "      <td>NaN</td>\n",
       "      <td>NaN</td>\n",
       "      <td>37.40</td>\n",
       "      <td>-121.94</td>\n",
       "      <td>4251</td>\n",
       "      <td>Customer</td>\n",
       "      <td>1990.0</td>\n",
       "      <td>Female</td>\n",
       "      <td>No</td>\n",
       "    </tr>\n",
       "    <tr>\n",
       "      <th>181201</th>\n",
       "      <td>312</td>\n",
       "      <td>2019-02-01 09:26:34.8030</td>\n",
       "      <td>2019-02-01 09:31:46.9210</td>\n",
       "      <td>NaN</td>\n",
       "      <td>NaN</td>\n",
       "      <td>37.40</td>\n",
       "      <td>-121.93</td>\n",
       "      <td>NaN</td>\n",
       "      <td>NaN</td>\n",
       "      <td>37.40</td>\n",
       "      <td>-121.93</td>\n",
       "      <td>4208</td>\n",
       "      <td>Subscriber</td>\n",
       "      <td>1987.0</td>\n",
       "      <td>Male</td>\n",
       "      <td>No</td>\n",
       "    </tr>\n",
       "  </tbody>\n",
       "</table>\n",
       "<p>197 rows × 16 columns</p>\n",
       "</div>"
      ],
      "text/plain": [
       "        duration_sec                start_time                  end_time  \\\n",
       "475             1709  2019-02-28 20:55:53.9320  2019-02-28 21:24:23.7380   \n",
       "1733            1272  2019-02-28 18:32:34.2730  2019-02-28 18:53:46.7270   \n",
       "3625             142  2019-02-28 17:10:46.5290  2019-02-28 17:13:09.4310   \n",
       "4070             585  2019-02-28 16:28:45.9340  2019-02-28 16:38:31.3320   \n",
       "5654             509  2019-02-28 12:30:17.1310  2019-02-28 12:38:46.3290   \n",
       "...              ...                       ...                       ...   \n",
       "176154          1447  2019-02-02 12:03:04.5440  2019-02-02 12:27:12.2670   \n",
       "179730           309  2019-02-01 12:59:45.9690  2019-02-01 13:04:55.4260   \n",
       "179970           659  2019-02-01 12:17:37.6750  2019-02-01 12:28:37.0140   \n",
       "180106          2013  2019-02-01 11:33:55.1470  2019-02-01 12:07:28.9400   \n",
       "181201           312  2019-02-01 09:26:34.8030  2019-02-01 09:31:46.9210   \n",
       "\n",
       "        start_station_id start_station_name  start_station_latitude  \\\n",
       "475                  NaN                NaN                   37.40   \n",
       "1733                 NaN                NaN                   37.40   \n",
       "3625                 NaN                NaN                   37.41   \n",
       "4070                 NaN                NaN                   37.39   \n",
       "5654                 NaN                NaN                   37.40   \n",
       "...                  ...                ...                     ...   \n",
       "176154               NaN                NaN                   37.40   \n",
       "179730               NaN                NaN                   37.40   \n",
       "179970               NaN                NaN                   37.41   \n",
       "180106               NaN                NaN                   37.40   \n",
       "181201               NaN                NaN                   37.40   \n",
       "\n",
       "        start_station_longitude  end_station_id end_station_name  \\\n",
       "475                     -121.94             NaN              NaN   \n",
       "1733                    -121.94             NaN              NaN   \n",
       "3625                    -121.95             NaN              NaN   \n",
       "4070                    -121.93             NaN              NaN   \n",
       "5654                    -121.92             NaN              NaN   \n",
       "...                         ...             ...              ...   \n",
       "176154                  -121.93             NaN              NaN   \n",
       "179730                  -121.94             NaN              NaN   \n",
       "179970                  -121.96             NaN              NaN   \n",
       "180106                  -121.94             NaN              NaN   \n",
       "181201                  -121.93             NaN              NaN   \n",
       "\n",
       "        end_station_latitude  end_station_longitude  bike_id   user_type  \\\n",
       "475                    37.40                -121.93     4211    Customer   \n",
       "1733                   37.41                -121.96     4174  Subscriber   \n",
       "3625                   37.41                -121.96     4283  Subscriber   \n",
       "4070                   37.40                -121.92     4089  Subscriber   \n",
       "5654                   37.39                -121.93     4089  Subscriber   \n",
       "...                      ...                    ...      ...         ...   \n",
       "176154                 37.40                -121.93     4249    Customer   \n",
       "179730                 37.40                -121.93     4249    Customer   \n",
       "179970                 37.41                -121.94     4092  Subscriber   \n",
       "180106                 37.40                -121.94     4251    Customer   \n",
       "181201                 37.40                -121.93     4208  Subscriber   \n",
       "\n",
       "        member_birth_year member_gender bike_share_for_all_trip  \n",
       "475                1991.0        Female                      No  \n",
       "1733               1980.0          Male                      No  \n",
       "3625               1988.0          Male                      No  \n",
       "4070               1984.0          Male                     Yes  \n",
       "5654               1984.0          Male                     Yes  \n",
       "...                   ...           ...                     ...  \n",
       "176154             1984.0          Male                      No  \n",
       "179730             1987.0        Female                      No  \n",
       "179970             1999.0        Female                      No  \n",
       "180106             1990.0        Female                      No  \n",
       "181201             1987.0          Male                      No  \n",
       "\n",
       "[197 rows x 16 columns]"
      ]
     },
     "execution_count": 230,
     "metadata": {},
     "output_type": "execute_result"
    }
   ],
   "source": [
    "df[df['start_station_name'].isna()]"
   ]
  },
  {
   "cell_type": "markdown",
   "metadata": {},
   "source": [
    "There is an equal number of unidentified stations in the dataset, we'll try to investigate this and maybe recover the data from other records with the same information that the missing records have."
   ]
  },
  {
   "cell_type": "code",
   "execution_count": 231,
   "metadata": {},
   "outputs": [
    {
     "data": {
      "text/html": [
       "<div>\n",
       "<style scoped>\n",
       "    .dataframe tbody tr th:only-of-type {\n",
       "        vertical-align: middle;\n",
       "    }\n",
       "\n",
       "    .dataframe tbody tr th {\n",
       "        vertical-align: top;\n",
       "    }\n",
       "\n",
       "    .dataframe thead th {\n",
       "        text-align: right;\n",
       "    }\n",
       "</style>\n",
       "<table border=\"1\" class=\"dataframe\">\n",
       "  <thead>\n",
       "    <tr style=\"text-align: right;\">\n",
       "      <th></th>\n",
       "      <th>duration_sec</th>\n",
       "      <th>start_time</th>\n",
       "      <th>end_time</th>\n",
       "      <th>start_station_id</th>\n",
       "      <th>start_station_name</th>\n",
       "      <th>start_station_latitude</th>\n",
       "      <th>start_station_longitude</th>\n",
       "      <th>end_station_id</th>\n",
       "      <th>end_station_name</th>\n",
       "      <th>end_station_latitude</th>\n",
       "      <th>end_station_longitude</th>\n",
       "      <th>bike_id</th>\n",
       "      <th>user_type</th>\n",
       "      <th>member_birth_year</th>\n",
       "      <th>member_gender</th>\n",
       "      <th>bike_share_for_all_trip</th>\n",
       "    </tr>\n",
       "  </thead>\n",
       "  <tbody>\n",
       "  </tbody>\n",
       "</table>\n",
       "</div>"
      ],
      "text/plain": [
       "Empty DataFrame\n",
       "Columns: [duration_sec, start_time, end_time, start_station_id, start_station_name, start_station_latitude, start_station_longitude, end_station_id, end_station_name, end_station_latitude, end_station_longitude, bike_id, user_type, member_birth_year, member_gender, bike_share_for_all_trip]\n",
       "Index: []"
      ]
     },
     "execution_count": 231,
     "metadata": {},
     "output_type": "execute_result"
    }
   ],
   "source": [
    "df[(df['start_station_latitude'] == 37.39) & (~df['start_station_name'].isna())]"
   ]
  },
  {
   "cell_type": "markdown",
   "metadata": {},
   "source": [
    "There appears to be no matching records, these are probably test records looking at the coordinates of the stations, the best option we have is to remove them."
   ]
  },
  {
   "cell_type": "code",
   "execution_count": 232,
   "metadata": {},
   "outputs": [
    {
     "data": {
      "text/html": [
       "<div>\n",
       "<style scoped>\n",
       "    .dataframe tbody tr th:only-of-type {\n",
       "        vertical-align: middle;\n",
       "    }\n",
       "\n",
       "    .dataframe tbody tr th {\n",
       "        vertical-align: top;\n",
       "    }\n",
       "\n",
       "    .dataframe thead th {\n",
       "        text-align: right;\n",
       "    }\n",
       "</style>\n",
       "<table border=\"1\" class=\"dataframe\">\n",
       "  <thead>\n",
       "    <tr style=\"text-align: right;\">\n",
       "      <th></th>\n",
       "      <th>duration_sec</th>\n",
       "      <th>start_time</th>\n",
       "      <th>end_time</th>\n",
       "      <th>start_station_id</th>\n",
       "      <th>start_station_name</th>\n",
       "      <th>start_station_latitude</th>\n",
       "      <th>start_station_longitude</th>\n",
       "      <th>end_station_id</th>\n",
       "      <th>end_station_name</th>\n",
       "      <th>end_station_latitude</th>\n",
       "      <th>end_station_longitude</th>\n",
       "      <th>bike_id</th>\n",
       "      <th>user_type</th>\n",
       "      <th>member_birth_year</th>\n",
       "      <th>member_gender</th>\n",
       "      <th>bike_share_for_all_trip</th>\n",
       "    </tr>\n",
       "  </thead>\n",
       "  <tbody>\n",
       "    <tr>\n",
       "      <th>1</th>\n",
       "      <td>42521</td>\n",
       "      <td>2019-02-28 18:53:21.7890</td>\n",
       "      <td>2019-03-01 06:42:03.0560</td>\n",
       "      <td>23.0</td>\n",
       "      <td>The Embarcadero at Steuart St</td>\n",
       "      <td>37.791464</td>\n",
       "      <td>-122.391034</td>\n",
       "      <td>81.0</td>\n",
       "      <td>Berry St at 4th St</td>\n",
       "      <td>37.775880</td>\n",
       "      <td>-122.393170</td>\n",
       "      <td>2535</td>\n",
       "      <td>Customer</td>\n",
       "      <td>NaN</td>\n",
       "      <td>NaN</td>\n",
       "      <td>No</td>\n",
       "    </tr>\n",
       "    <tr>\n",
       "      <th>13</th>\n",
       "      <td>915</td>\n",
       "      <td>2019-02-28 23:49:06.0620</td>\n",
       "      <td>2019-03-01 00:04:21.8670</td>\n",
       "      <td>252.0</td>\n",
       "      <td>Channing Way at Shattuck Ave</td>\n",
       "      <td>37.865847</td>\n",
       "      <td>-122.267443</td>\n",
       "      <td>244.0</td>\n",
       "      <td>Shattuck Ave at Hearst Ave</td>\n",
       "      <td>37.873676</td>\n",
       "      <td>-122.268487</td>\n",
       "      <td>5101</td>\n",
       "      <td>Subscriber</td>\n",
       "      <td>NaN</td>\n",
       "      <td>NaN</td>\n",
       "      <td>No</td>\n",
       "    </tr>\n",
       "    <tr>\n",
       "      <th>28</th>\n",
       "      <td>650</td>\n",
       "      <td>2019-02-28 23:43:27.5030</td>\n",
       "      <td>2019-02-28 23:54:18.4510</td>\n",
       "      <td>258.0</td>\n",
       "      <td>University Ave at Oxford St</td>\n",
       "      <td>37.872355</td>\n",
       "      <td>-122.266447</td>\n",
       "      <td>263.0</td>\n",
       "      <td>Channing Way at San Pablo Ave</td>\n",
       "      <td>37.862827</td>\n",
       "      <td>-122.290230</td>\n",
       "      <td>4784</td>\n",
       "      <td>Customer</td>\n",
       "      <td>NaN</td>\n",
       "      <td>NaN</td>\n",
       "      <td>No</td>\n",
       "    </tr>\n",
       "    <tr>\n",
       "      <th>53</th>\n",
       "      <td>3418</td>\n",
       "      <td>2019-02-28 22:41:16.3620</td>\n",
       "      <td>2019-02-28 23:38:14.3630</td>\n",
       "      <td>11.0</td>\n",
       "      <td>Davis St at Jackson St</td>\n",
       "      <td>37.797280</td>\n",
       "      <td>-122.398436</td>\n",
       "      <td>11.0</td>\n",
       "      <td>Davis St at Jackson St</td>\n",
       "      <td>37.797280</td>\n",
       "      <td>-122.398436</td>\n",
       "      <td>319</td>\n",
       "      <td>Customer</td>\n",
       "      <td>NaN</td>\n",
       "      <td>NaN</td>\n",
       "      <td>No</td>\n",
       "    </tr>\n",
       "    <tr>\n",
       "      <th>65</th>\n",
       "      <td>926</td>\n",
       "      <td>2019-02-28 23:17:05.8530</td>\n",
       "      <td>2019-02-28 23:32:32.6820</td>\n",
       "      <td>13.0</td>\n",
       "      <td>Commercial St at Montgomery St</td>\n",
       "      <td>37.794231</td>\n",
       "      <td>-122.402923</td>\n",
       "      <td>81.0</td>\n",
       "      <td>Berry St at 4th St</td>\n",
       "      <td>37.775880</td>\n",
       "      <td>-122.393170</td>\n",
       "      <td>2951</td>\n",
       "      <td>Subscriber</td>\n",
       "      <td>NaN</td>\n",
       "      <td>NaN</td>\n",
       "      <td>No</td>\n",
       "    </tr>\n",
       "    <tr>\n",
       "      <th>...</th>\n",
       "      <td>...</td>\n",
       "      <td>...</td>\n",
       "      <td>...</td>\n",
       "      <td>...</td>\n",
       "      <td>...</td>\n",
       "      <td>...</td>\n",
       "      <td>...</td>\n",
       "      <td>...</td>\n",
       "      <td>...</td>\n",
       "      <td>...</td>\n",
       "      <td>...</td>\n",
       "      <td>...</td>\n",
       "      <td>...</td>\n",
       "      <td>...</td>\n",
       "      <td>...</td>\n",
       "      <td>...</td>\n",
       "    </tr>\n",
       "    <tr>\n",
       "      <th>183354</th>\n",
       "      <td>449</td>\n",
       "      <td>2019-02-01 01:35:07.6630</td>\n",
       "      <td>2019-02-01 01:42:36.8780</td>\n",
       "      <td>244.0</td>\n",
       "      <td>Shattuck Ave at Hearst Ave</td>\n",
       "      <td>37.873676</td>\n",
       "      <td>-122.268487</td>\n",
       "      <td>253.0</td>\n",
       "      <td>Haste St at College Ave</td>\n",
       "      <td>37.866418</td>\n",
       "      <td>-122.253799</td>\n",
       "      <td>5430</td>\n",
       "      <td>Customer</td>\n",
       "      <td>NaN</td>\n",
       "      <td>NaN</td>\n",
       "      <td>No</td>\n",
       "    </tr>\n",
       "    <tr>\n",
       "      <th>183356</th>\n",
       "      <td>795</td>\n",
       "      <td>2019-02-01 01:25:50.3660</td>\n",
       "      <td>2019-02-01 01:39:05.9500</td>\n",
       "      <td>368.0</td>\n",
       "      <td>Myrtle St at Polk St</td>\n",
       "      <td>37.785434</td>\n",
       "      <td>-122.419622</td>\n",
       "      <td>125.0</td>\n",
       "      <td>20th St at Bryant St</td>\n",
       "      <td>37.759200</td>\n",
       "      <td>-122.409851</td>\n",
       "      <td>5400</td>\n",
       "      <td>Subscriber</td>\n",
       "      <td>NaN</td>\n",
       "      <td>NaN</td>\n",
       "      <td>No</td>\n",
       "    </tr>\n",
       "    <tr>\n",
       "      <th>183363</th>\n",
       "      <td>673</td>\n",
       "      <td>2019-02-01 01:12:24.4200</td>\n",
       "      <td>2019-02-01 01:23:37.6450</td>\n",
       "      <td>75.0</td>\n",
       "      <td>Market St at Franklin St</td>\n",
       "      <td>37.773793</td>\n",
       "      <td>-122.421239</td>\n",
       "      <td>133.0</td>\n",
       "      <td>Valencia St at 22nd St</td>\n",
       "      <td>37.755213</td>\n",
       "      <td>-122.420975</td>\n",
       "      <td>5166</td>\n",
       "      <td>Customer</td>\n",
       "      <td>NaN</td>\n",
       "      <td>NaN</td>\n",
       "      <td>No</td>\n",
       "    </tr>\n",
       "    <tr>\n",
       "      <th>183371</th>\n",
       "      <td>196</td>\n",
       "      <td>2019-02-01 01:08:38.6410</td>\n",
       "      <td>2019-02-01 01:11:54.9490</td>\n",
       "      <td>58.0</td>\n",
       "      <td>Market St at 10th St</td>\n",
       "      <td>37.776619</td>\n",
       "      <td>-122.417385</td>\n",
       "      <td>75.0</td>\n",
       "      <td>Market St at Franklin St</td>\n",
       "      <td>37.773793</td>\n",
       "      <td>-122.421239</td>\n",
       "      <td>2395</td>\n",
       "      <td>Customer</td>\n",
       "      <td>NaN</td>\n",
       "      <td>NaN</td>\n",
       "      <td>No</td>\n",
       "    </tr>\n",
       "    <tr>\n",
       "      <th>183402</th>\n",
       "      <td>122</td>\n",
       "      <td>2019-02-01 00:17:32.2580</td>\n",
       "      <td>2019-02-01 00:19:34.9380</td>\n",
       "      <td>119.0</td>\n",
       "      <td>18th St at Noe St</td>\n",
       "      <td>37.761047</td>\n",
       "      <td>-122.432642</td>\n",
       "      <td>120.0</td>\n",
       "      <td>Mission Dolores Park</td>\n",
       "      <td>37.761420</td>\n",
       "      <td>-122.426435</td>\n",
       "      <td>4326</td>\n",
       "      <td>Subscriber</td>\n",
       "      <td>NaN</td>\n",
       "      <td>NaN</td>\n",
       "      <td>No</td>\n",
       "    </tr>\n",
       "  </tbody>\n",
       "</table>\n",
       "<p>8265 rows × 16 columns</p>\n",
       "</div>"
      ],
      "text/plain": [
       "        duration_sec                start_time                  end_time  \\\n",
       "1              42521  2019-02-28 18:53:21.7890  2019-03-01 06:42:03.0560   \n",
       "13               915  2019-02-28 23:49:06.0620  2019-03-01 00:04:21.8670   \n",
       "28               650  2019-02-28 23:43:27.5030  2019-02-28 23:54:18.4510   \n",
       "53              3418  2019-02-28 22:41:16.3620  2019-02-28 23:38:14.3630   \n",
       "65               926  2019-02-28 23:17:05.8530  2019-02-28 23:32:32.6820   \n",
       "...              ...                       ...                       ...   \n",
       "183354           449  2019-02-01 01:35:07.6630  2019-02-01 01:42:36.8780   \n",
       "183356           795  2019-02-01 01:25:50.3660  2019-02-01 01:39:05.9500   \n",
       "183363           673  2019-02-01 01:12:24.4200  2019-02-01 01:23:37.6450   \n",
       "183371           196  2019-02-01 01:08:38.6410  2019-02-01 01:11:54.9490   \n",
       "183402           122  2019-02-01 00:17:32.2580  2019-02-01 00:19:34.9380   \n",
       "\n",
       "        start_station_id              start_station_name  \\\n",
       "1                   23.0   The Embarcadero at Steuart St   \n",
       "13                 252.0    Channing Way at Shattuck Ave   \n",
       "28                 258.0     University Ave at Oxford St   \n",
       "53                  11.0          Davis St at Jackson St   \n",
       "65                  13.0  Commercial St at Montgomery St   \n",
       "...                  ...                             ...   \n",
       "183354             244.0      Shattuck Ave at Hearst Ave   \n",
       "183356             368.0            Myrtle St at Polk St   \n",
       "183363              75.0        Market St at Franklin St   \n",
       "183371              58.0            Market St at 10th St   \n",
       "183402             119.0               18th St at Noe St   \n",
       "\n",
       "        start_station_latitude  start_station_longitude  end_station_id  \\\n",
       "1                    37.791464              -122.391034            81.0   \n",
       "13                   37.865847              -122.267443           244.0   \n",
       "28                   37.872355              -122.266447           263.0   \n",
       "53                   37.797280              -122.398436            11.0   \n",
       "65                   37.794231              -122.402923            81.0   \n",
       "...                        ...                      ...             ...   \n",
       "183354               37.873676              -122.268487           253.0   \n",
       "183356               37.785434              -122.419622           125.0   \n",
       "183363               37.773793              -122.421239           133.0   \n",
       "183371               37.776619              -122.417385            75.0   \n",
       "183402               37.761047              -122.432642           120.0   \n",
       "\n",
       "                     end_station_name  end_station_latitude  \\\n",
       "1                  Berry St at 4th St             37.775880   \n",
       "13         Shattuck Ave at Hearst Ave             37.873676   \n",
       "28      Channing Way at San Pablo Ave             37.862827   \n",
       "53             Davis St at Jackson St             37.797280   \n",
       "65                 Berry St at 4th St             37.775880   \n",
       "...                               ...                   ...   \n",
       "183354        Haste St at College Ave             37.866418   \n",
       "183356           20th St at Bryant St             37.759200   \n",
       "183363         Valencia St at 22nd St             37.755213   \n",
       "183371       Market St at Franklin St             37.773793   \n",
       "183402           Mission Dolores Park             37.761420   \n",
       "\n",
       "        end_station_longitude  bike_id   user_type  member_birth_year  \\\n",
       "1                 -122.393170     2535    Customer                NaN   \n",
       "13                -122.268487     5101  Subscriber                NaN   \n",
       "28                -122.290230     4784    Customer                NaN   \n",
       "53                -122.398436      319    Customer                NaN   \n",
       "65                -122.393170     2951  Subscriber                NaN   \n",
       "...                       ...      ...         ...                ...   \n",
       "183354            -122.253799     5430    Customer                NaN   \n",
       "183356            -122.409851     5400  Subscriber                NaN   \n",
       "183363            -122.420975     5166    Customer                NaN   \n",
       "183371            -122.421239     2395    Customer                NaN   \n",
       "183402            -122.426435     4326  Subscriber                NaN   \n",
       "\n",
       "       member_gender bike_share_for_all_trip  \n",
       "1                NaN                      No  \n",
       "13               NaN                      No  \n",
       "28               NaN                      No  \n",
       "53               NaN                      No  \n",
       "65               NaN                      No  \n",
       "...              ...                     ...  \n",
       "183354           NaN                      No  \n",
       "183356           NaN                      No  \n",
       "183363           NaN                      No  \n",
       "183371           NaN                      No  \n",
       "183402           NaN                      No  \n",
       "\n",
       "[8265 rows x 16 columns]"
      ]
     },
     "execution_count": 232,
     "metadata": {},
     "output_type": "execute_result"
    }
   ],
   "source": [
    "df[df['member_birth_year'].isna()]"
   ]
  },
  {
   "cell_type": "markdown",
   "metadata": {},
   "source": [
    "Same here goes with the `member_birth_year` and `user_gender`, let's investigate the values the same way."
   ]
  },
  {
   "cell_type": "code",
   "execution_count": 233,
   "metadata": {},
   "outputs": [
    {
     "data": {
      "text/plain": [
       "8265"
      ]
     },
     "execution_count": 233,
     "metadata": {},
     "output_type": "execute_result"
    }
   ],
   "source": [
    "df['member_birth_year'].isna().sum()"
   ]
  },
  {
   "cell_type": "markdown",
   "metadata": {},
   "source": [
    "There are a lot of data points where both columns are empty, in this case, the best option is to remove these rows from the dataset, after that we'll still have a lot of data points to work with."
   ]
  },
  {
   "cell_type": "code",
   "execution_count": 234,
   "metadata": {},
   "outputs": [
    {
     "data": {
      "text/plain": [
       "Subscriber    163544\n",
       "Customer       19868\n",
       "Name: user_type, dtype: int64"
      ]
     },
     "execution_count": 234,
     "metadata": {},
     "output_type": "execute_result"
    }
   ],
   "source": [
    "df.user_type.value_counts()"
   ]
  },
  {
   "cell_type": "markdown",
   "metadata": {},
   "source": [
    "`user_type` should be of datatype `category` instead of `object`."
   ]
  },
  {
   "cell_type": "code",
   "execution_count": 235,
   "metadata": {},
   "outputs": [
    {
     "data": {
      "text/plain": [
       "1878.0"
      ]
     },
     "execution_count": 235,
     "metadata": {},
     "output_type": "execute_result"
    }
   ],
   "source": [
    "df['member_birth_year'].min()"
   ]
  },
  {
   "cell_type": "code",
   "execution_count": 236,
   "metadata": {},
   "outputs": [
    {
     "data": {
      "text/plain": [
       "27370     1878.0\n",
       "72711     1900.0\n",
       "41319     1900.0\n",
       "173711    1900.0\n",
       "94616     1900.0\n",
       "           ...  \n",
       "183354       NaN\n",
       "183356       NaN\n",
       "183363       NaN\n",
       "183371       NaN\n",
       "183402       NaN\n",
       "Name: member_birth_year, Length: 183412, dtype: float64"
      ]
     },
     "execution_count": 236,
     "metadata": {},
     "output_type": "execute_result"
    }
   ],
   "source": [
    "df['member_birth_year'].sort_values()"
   ]
  },
  {
   "cell_type": "markdown",
   "metadata": {},
   "source": [
    "Here we can clearly see some outliers in this variable, this must be restricited to a more plausable number."
   ]
  },
  {
   "cell_type": "code",
   "execution_count": 237,
   "metadata": {},
   "outputs": [
    {
     "data": {
      "text/plain": [
       "Male      130651\n",
       "Female     40844\n",
       "Other       3652\n",
       "Name: member_gender, dtype: int64"
      ]
     },
     "execution_count": 237,
     "metadata": {},
     "output_type": "execute_result"
    }
   ],
   "source": [
    "df.member_gender.value_counts()"
   ]
  },
  {
   "cell_type": "markdown",
   "metadata": {},
   "source": [
    "`member_gender` should be of datatype `category` instead of `object`."
   ]
  },
  {
   "cell_type": "code",
   "execution_count": 238,
   "metadata": {},
   "outputs": [
    {
     "data": {
      "text/plain": [
       "No     166053\n",
       "Yes     17359\n",
       "Name: bike_share_for_all_trip, dtype: int64"
      ]
     },
     "execution_count": 238,
     "metadata": {},
     "output_type": "execute_result"
    }
   ],
   "source": [
    "df.bike_share_for_all_trip.value_counts()"
   ]
  },
  {
   "cell_type": "markdown",
   "metadata": {},
   "source": [
    "`bike_share_for_all_trip` should be of datatype `category` instead of `object`."
   ]
  },
  {
   "cell_type": "code",
   "execution_count": 239,
   "metadata": {},
   "outputs": [
    {
     "data": {
      "text/plain": [
       "329"
      ]
     },
     "execution_count": 239,
     "metadata": {},
     "output_type": "execute_result"
    }
   ],
   "source": [
    "df.start_station_name.value_counts().count()"
   ]
  },
  {
   "cell_type": "code",
   "execution_count": 240,
   "metadata": {},
   "outputs": [
    {
     "data": {
      "text/plain": [
       "329"
      ]
     },
     "execution_count": 240,
     "metadata": {},
     "output_type": "execute_result"
    }
   ],
   "source": [
    "df.end_station_name.value_counts().count()"
   ]
  },
  {
   "cell_type": "markdown",
   "metadata": {},
   "source": [
    "We notice that there are only a few of stations compared to the number of records that we have, so it is better to convert the `start_station_name` and `end_station_name` columns to datatype `category` instead of `object`."
   ]
  },
  {
   "cell_type": "markdown",
   "metadata": {},
   "source": [
    "### Assessment Results"
   ]
  },
  {
   "cell_type": "markdown",
   "metadata": {},
   "source": [
    "1. `duration_sec` should be trasformed into hour-format.\n",
    "2. `start_time` and `end_time` should be of datatype `datetime` instead of `object`.\n",
    "3. Remove records with unidentified station names and ID's.\n",
    "4. `user_type` should be of datatype `category` instead of `object`.\n",
    "5. Remove the records with `NaN`s in both `member_birth_year` and `member_gender`.\n",
    "6. `member_birth_year` should be of datatype `int64` instead of `float64`.\n",
    "7. It would be better if we had a column that specifies the age of the user based on the current year and the user's birth year.\n",
    "8. There are some outliers in the `member_birth_year`.\n",
    "9. `member_gender` should be of datatype `category` instead of `object`.\n",
    "10. `bike_share_for_all_trip` should be of datatype `category` instead of `object`.\n",
    "11. We notice that there are only a few of stations compared to the number of records that we have, so it is better to convert the `start_station_name` and `end_station_name` columns to datatype `category` instead of `object`.\n",
    "12. A nice thing to have would be a column that contains the route, i.e. the `start_station_name`  and the `end_station_name` joined in a single column."
   ]
  },
  {
   "cell_type": "markdown",
   "metadata": {},
   "source": [
    "## Data Cleaning"
   ]
  },
  {
   "cell_type": "code",
   "execution_count": 347,
   "metadata": {},
   "outputs": [],
   "source": [
    "df_copy = df.copy()"
   ]
  },
  {
   "cell_type": "markdown",
   "metadata": {},
   "source": [
    "**Define**\n",
    "\n",
    "Change `duration_sec` column into hour-format, then change the column's datatype into `float64`."
   ]
  },
  {
   "cell_type": "markdown",
   "metadata": {},
   "source": [
    "**Code**"
   ]
  },
  {
   "cell_type": "code",
   "execution_count": 348,
   "metadata": {},
   "outputs": [],
   "source": [
    "df_copy['duration_hour'] = round(df_copy['duration_sec'] / 3600, 2)"
   ]
  },
  {
   "cell_type": "markdown",
   "metadata": {},
   "source": [
    "**Test**"
   ]
  },
  {
   "cell_type": "code",
   "execution_count": 349,
   "metadata": {},
   "outputs": [
    {
     "data": {
      "text/plain": [
       "0    14.50\n",
       "1    11.81\n",
       "2    17.18\n",
       "3    10.14\n",
       "4     0.44\n",
       "Name: duration_hour, dtype: float64"
      ]
     },
     "execution_count": 349,
     "metadata": {},
     "output_type": "execute_result"
    }
   ],
   "source": [
    "df_copy['duration_hour'].head()"
   ]
  },
  {
   "cell_type": "markdown",
   "metadata": {},
   "source": [
    "**Define**\n",
    "\n",
    "Remove outliers from the `duration_hour` column, which are the ones with more than one hour in length, then create a new column, `duration_min`, to store the same information but in minute-format."
   ]
  },
  {
   "cell_type": "markdown",
   "metadata": {},
   "source": [
    "**Code**"
   ]
  },
  {
   "cell_type": "code",
   "execution_count": 350,
   "metadata": {},
   "outputs": [
    {
     "data": {
      "text/plain": [
       "count    183412.000000\n",
       "mean          0.201696\n",
       "std           0.498456\n",
       "min           0.020000\n",
       "25%           0.090000\n",
       "50%           0.140000\n",
       "75%           0.220000\n",
       "max          23.730000\n",
       "Name: duration_hour, dtype: float64"
      ]
     },
     "execution_count": 350,
     "metadata": {},
     "output_type": "execute_result"
    }
   ],
   "source": [
    "df_copy['duration_hour'].describe()"
   ]
  },
  {
   "cell_type": "code",
   "execution_count": 351,
   "metadata": {},
   "outputs": [
    {
     "data": {
      "image/png": "[encoded data removed]",
      "text/plain": [
       "<Figure size 432x288 with 1 Axes>"
      ]
     },
     "metadata": {
      "needs_background": "light"
     },
     "output_type": "display_data"
    }
   ],
   "source": [
    "sb.boxplot(data = df_copy, y = 'duration_hour');"
   ]
  },
  {
   "cell_type": "code",
   "execution_count": 352,
   "metadata": {},
   "outputs": [
    {
     "data": {
      "text/plain": [
       "1.02"
      ]
     },
     "execution_count": 352,
     "metadata": {},
     "output_type": "execute_result"
    }
   ],
   "source": [
    "np.percentile(df_copy['duration_hour'], 99.1)"
   ]
  },
  {
   "cell_type": "markdown",
   "metadata": {},
   "source": [
    "Here we can see that more than 99% of the data points that we have are below the one-hour mark."
   ]
  },
  {
   "cell_type": "code",
   "execution_count": 353,
   "metadata": {},
   "outputs": [],
   "source": [
    "df_copy = df_copy[df_copy['duration_hour'] <= 1]"
   ]
  },
  {
   "cell_type": "code",
   "execution_count": 354,
   "metadata": {},
   "outputs": [],
   "source": [
    "df_copy['duration_min'] = df_copy['duration_hour'] * 60"
   ]
  },
  {
   "cell_type": "markdown",
   "metadata": {},
   "source": [
    "**Test**"
   ]
  },
  {
   "cell_type": "code",
   "execution_count": 355,
   "metadata": {},
   "outputs": [],
   "source": [
    "assert (df_copy['duration_hour'] > 1).sum() == 0"
   ]
  },
  {
   "cell_type": "code",
   "execution_count": 356,
   "metadata": {},
   "outputs": [
    {
     "data": {
      "text/plain": [
       "4    26.4\n",
       "5    30.0\n",
       "6    19.2\n",
       "7    27.0\n",
       "8    26.4\n",
       "Name: duration_min, dtype: float64"
      ]
     },
     "execution_count": 356,
     "metadata": {},
     "output_type": "execute_result"
    }
   ],
   "source": [
    "df_copy['duration_min'].head()"
   ]
  },
  {
   "cell_type": "markdown",
   "metadata": {},
   "source": [
    "**Define**\n",
    "\n",
    "Change `start_time` and `end_time`'s datatypes into `datetime`."
   ]
  },
  {
   "cell_type": "markdown",
   "metadata": {},
   "source": [
    "**Code**"
   ]
  },
  {
   "cell_type": "code",
   "execution_count": 357,
   "metadata": {},
   "outputs": [],
   "source": [
    "df_copy['start_time'] = pd.to_datetime(df_copy['start_time'])\n",
    "df_copy['end_time'] = pd.to_datetime(df_copy['end_time'])"
   ]
  },
  {
   "cell_type": "markdown",
   "metadata": {},
   "source": [
    "**Test**"
   ]
  },
  {
   "cell_type": "code",
   "execution_count": 358,
   "metadata": {},
   "outputs": [
    {
     "name": "stdout",
     "output_type": "stream",
     "text": [
      "<class 'pandas.core.frame.DataFrame'>\n",
      "Int64Index: 181723 entries, 4 to 183411\n",
      "Data columns (total 2 columns):\n",
      " #   Column      Non-Null Count   Dtype         \n",
      "---  ------      --------------   -----         \n",
      " 0   start_time  181723 non-null  datetime64[ns]\n",
      " 1   end_time    181723 non-null  datetime64[ns]\n",
      "dtypes: datetime64[ns](2)\n",
      "memory usage: 4.2 MB\n"
     ]
    }
   ],
   "source": [
    "df_copy[['start_time', 'end_time']].info()"
   ]
  },
  {
   "cell_type": "markdown",
   "metadata": {},
   "source": [
    "**Define**\n",
    "\n",
    "Extract hour of day from the `start_time` column and store it in a new column named `hour_of_day`."
   ]
  },
  {
   "cell_type": "markdown",
   "metadata": {},
   "source": [
    "**Code**"
   ]
  },
  {
   "cell_type": "code",
   "execution_count": 359,
   "metadata": {},
   "outputs": [],
   "source": [
    "df_copy['hour_of_day'] = df_copy['start_time'].dt.hour"
   ]
  },
  {
   "cell_type": "markdown",
   "metadata": {},
   "source": [
    "**Test**"
   ]
  },
  {
   "cell_type": "code",
   "execution_count": 360,
   "metadata": {},
   "outputs": [
    {
     "data": {
      "text/plain": [
       "4    23\n",
       "5    23\n",
       "6    23\n",
       "7    23\n",
       "8    23\n",
       "Name: hour_of_day, dtype: int64"
      ]
     },
     "execution_count": 360,
     "metadata": {},
     "output_type": "execute_result"
    }
   ],
   "source": [
    "df_copy['hour_of_day'].head()"
   ]
  },
  {
   "cell_type": "markdown",
   "metadata": {},
   "source": [
    "**Define**\n",
    "\n",
    "Remove records with missing `start_station_id` and `end_station_id`."
   ]
  },
  {
   "cell_type": "markdown",
   "metadata": {},
   "source": [
    "**Code**"
   ]
  },
  {
   "cell_type": "code",
   "execution_count": 361,
   "metadata": {},
   "outputs": [],
   "source": [
    "nan_records = df_copy[df_copy['start_station_name'].isna()]\n",
    "\n",
    "df_copy.drop(nan_records.index, inplace = True)"
   ]
  },
  {
   "cell_type": "markdown",
   "metadata": {},
   "source": [
    "**Test**"
   ]
  },
  {
   "cell_type": "code",
   "execution_count": 362,
   "metadata": {},
   "outputs": [
    {
     "data": {
      "text/plain": [
       "duration_sec                  0\n",
       "start_time                    0\n",
       "end_time                      0\n",
       "start_station_id              0\n",
       "start_station_name            0\n",
       "start_station_latitude        0\n",
       "start_station_longitude       0\n",
       "end_station_id                0\n",
       "end_station_name              0\n",
       "end_station_latitude          0\n",
       "end_station_longitude         0\n",
       "bike_id                       0\n",
       "user_type                     0\n",
       "member_birth_year          7945\n",
       "member_gender              7945\n",
       "bike_share_for_all_trip       0\n",
       "duration_hour                 0\n",
       "duration_min                  0\n",
       "hour_of_day                   0\n",
       "dtype: int64"
      ]
     },
     "execution_count": 362,
     "metadata": {},
     "output_type": "execute_result"
    }
   ],
   "source": [
    "df_copy.isna().sum()"
   ]
  },
  {
   "cell_type": "markdown",
   "metadata": {},
   "source": [
    "**Define**\n",
    "\n",
    "Remove records with missing `member_birth_year` and `user_gender` data."
   ]
  },
  {
   "cell_type": "markdown",
   "metadata": {},
   "source": [
    "**Code**"
   ]
  },
  {
   "cell_type": "code",
   "execution_count": 363,
   "metadata": {},
   "outputs": [],
   "source": [
    "nan_records = df_copy[df_copy['member_birth_year'].isna()]\n",
    "\n",
    "df_copy.drop(nan_records.index, inplace = True)"
   ]
  },
  {
   "cell_type": "markdown",
   "metadata": {},
   "source": [
    "**Test**"
   ]
  },
  {
   "cell_type": "code",
   "execution_count": 364,
   "metadata": {},
   "outputs": [
    {
     "data": {
      "text/plain": [
       "duration_sec               0\n",
       "start_time                 0\n",
       "end_time                   0\n",
       "start_station_id           0\n",
       "start_station_name         0\n",
       "start_station_latitude     0\n",
       "start_station_longitude    0\n",
       "end_station_id             0\n",
       "end_station_name           0\n",
       "end_station_latitude       0\n",
       "end_station_longitude      0\n",
       "bike_id                    0\n",
       "user_type                  0\n",
       "member_birth_year          0\n",
       "member_gender              0\n",
       "bike_share_for_all_trip    0\n",
       "duration_hour              0\n",
       "duration_min               0\n",
       "hour_of_day                0\n",
       "dtype: int64"
      ]
     },
     "execution_count": 364,
     "metadata": {},
     "output_type": "execute_result"
    }
   ],
   "source": [
    "df_copy.isna().sum()"
   ]
  },
  {
   "cell_type": "markdown",
   "metadata": {},
   "source": [
    "**Define**\n",
    "\n",
    "Change `member_birth_year`'s datatype to `int` instead of `float`, then create a new column ."
   ]
  },
  {
   "cell_type": "markdown",
   "metadata": {},
   "source": [
    "**Code**"
   ]
  },
  {
   "cell_type": "code",
   "execution_count": 365,
   "metadata": {},
   "outputs": [],
   "source": [
    "df_copy['member_birth_year'] = df_copy['member_birth_year'].astype(int)"
   ]
  },
  {
   "cell_type": "markdown",
   "metadata": {},
   "source": [
    "**Test**"
   ]
  },
  {
   "cell_type": "code",
   "execution_count": 366,
   "metadata": {},
   "outputs": [
    {
     "data": {
      "text/plain": [
       "dtype('int32')"
      ]
     },
     "execution_count": 366,
     "metadata": {},
     "output_type": "execute_result"
    }
   ],
   "source": [
    "df_copy['member_birth_year'].dtype"
   ]
  },
  {
   "cell_type": "markdown",
   "metadata": {},
   "source": [
    "**Define**\n",
    "\n",
    "Create a new column, `user_age`, and fill it with the current year minus the values from `member_birth_year`."
   ]
  },
  {
   "cell_type": "markdown",
   "metadata": {},
   "source": [
    "**Code**"
   ]
  },
  {
   "cell_type": "code",
   "execution_count": 367,
   "metadata": {},
   "outputs": [],
   "source": [
    "import datetime as dt\n",
    "\n",
    "now = dt.datetime.now()\n",
    "\n",
    "df_copy['user_age'] = now.year - df_copy['member_birth_year']"
   ]
  },
  {
   "cell_type": "markdown",
   "metadata": {},
   "source": [
    "**Test**"
   ]
  },
  {
   "cell_type": "code",
   "execution_count": 368,
   "metadata": {},
   "outputs": [
    {
     "data": {
      "text/plain": [
       "4    46\n",
       "5    61\n",
       "6    37\n",
       "7    31\n",
       "8    32\n",
       "Name: user_age, dtype: int32"
      ]
     },
     "execution_count": 368,
     "metadata": {},
     "output_type": "execute_result"
    }
   ],
   "source": [
    "df_copy.user_age.head()"
   ]
  },
  {
   "cell_type": "markdown",
   "metadata": {},
   "source": [
    "**Define**\n",
    "\n",
    "Remove records where `user_age` is more than 100 years old."
   ]
  },
  {
   "cell_type": "markdown",
   "metadata": {},
   "source": [
    "**Code**"
   ]
  },
  {
   "cell_type": "code",
   "execution_count": 369,
   "metadata": {},
   "outputs": [
    {
     "data": {
      "image/png": "[encoded data removed]",
      "text/plain": [
       "<Figure size 432x288 with 1 Axes>"
      ]
     },
     "metadata": {
      "needs_background": "light"
     },
     "output_type": "display_data"
    }
   ],
   "source": [
    "sb.boxplot(data = df_copy, x = 'user_age');"
   ]
  },
  {
   "cell_type": "code",
   "execution_count": 370,
   "metadata": {},
   "outputs": [],
   "source": [
    "invalid_ages = df_copy[df_copy['user_age'] > 100]\n",
    "\n",
    "df_copy.drop(invalid_ages.index, inplace = True)"
   ]
  },
  {
   "cell_type": "markdown",
   "metadata": {},
   "source": [
    "**Test**"
   ]
  },
  {
   "cell_type": "code",
   "execution_count": 371,
   "metadata": {},
   "outputs": [],
   "source": [
    "assert (df_copy['user_age'] > 100).sum() == 0"
   ]
  },
  {
   "cell_type": "markdown",
   "metadata": {},
   "source": [
    "**Define**\n",
    "\n",
    "Create a new column, `age_range`, that categorizes the `user_age` variable in range bins of 10."
   ]
  },
  {
   "cell_type": "markdown",
   "metadata": {},
   "source": [
    "**Code**"
   ]
  },
  {
   "cell_type": "code",
   "execution_count": 372,
   "metadata": {},
   "outputs": [
    {
     "data": {
      "text/plain": [
       "(array([  0,  10,  20,  30,  40,  50,  60,  70,  80,  90, 200]),\n",
       " ['0-10',\n",
       "  '10-20',\n",
       "  '20-30',\n",
       "  '30-40',\n",
       "  '40-50',\n",
       "  '50-60',\n",
       "  '60-70',\n",
       "  '70-80',\n",
       "  '80-90',\n",
       "  '90+'])"
      ]
     },
     "execution_count": 372,
     "metadata": {},
     "output_type": "execute_result"
    }
   ],
   "source": [
    "# the size of the age class\n",
    "steps = 10\n",
    "# creating a numpy array with the desired ranges and appending the 200 at the end in order to include the remaining of the ages\n",
    "age_ranges = np.append(np.arange(0, 100, steps), 200)\n",
    "# create a list to store the corresponding labels of the age classes\n",
    "age_ranges_labels = list()\n",
    "# loop over the age ranges\n",
    "for i in range(age_ranges.shape[0]):\n",
    "    # append the current number with the next number with a hyphen separating them, then append it to the labels list\n",
    "    age_ranges_labels.append(str(age_ranges[i]) + '-' + str(age_ranges[i + 1]))\n",
    "    # if the only range that is left is the x+ range, then append that to the labels list and break\n",
    "    if i == age_ranges.shape[0] - 3:\n",
    "        age_ranges_labels.append(str(age_ranges[i + 1]) + '+')\n",
    "        break\n",
    "age_ranges, age_ranges_labels"
   ]
  },
  {
   "cell_type": "code",
   "execution_count": 373,
   "metadata": {},
   "outputs": [],
   "source": [
    "df_copy['age_range'] = pd.cut(df_copy['user_age'], age_ranges, labels=age_ranges_labels)"
   ]
  },
  {
   "cell_type": "markdown",
   "metadata": {},
   "source": [
    "**Test**"
   ]
  },
  {
   "cell_type": "code",
   "execution_count": 277,
   "metadata": {},
   "outputs": [
    {
     "data": {
      "text/plain": [
       "4    40-50\n",
       "5    60-70\n",
       "6    30-40\n",
       "7    30-40\n",
       "8    30-40\n",
       "Name: age_range, dtype: category\n",
       "Categories (10, object): ['0-10' < '10-20' < '20-30' < '30-40' ... '60-70' < '70-80' < '80-90' < '90+']"
      ]
     },
     "execution_count": 277,
     "metadata": {},
     "output_type": "execute_result"
    }
   ],
   "source": [
    "df_copy['age_range'].head()"
   ]
  },
  {
   "cell_type": "markdown",
   "metadata": {},
   "source": [
    "**Define**\n",
    "\n",
    "Change `user_type`'s datatype from `object` to `category`."
   ]
  },
  {
   "cell_type": "markdown",
   "metadata": {},
   "source": [
    "**Code**"
   ]
  },
  {
   "cell_type": "code",
   "execution_count": 278,
   "metadata": {},
   "outputs": [],
   "source": [
    "df_copy['user_type'] = df_copy['user_type'].astype('category')"
   ]
  },
  {
   "cell_type": "markdown",
   "metadata": {},
   "source": [
    "**Test**"
   ]
  },
  {
   "cell_type": "code",
   "execution_count": 279,
   "metadata": {},
   "outputs": [
    {
     "data": {
      "text/plain": [
       "CategoricalDtype(categories=['Customer', 'Subscriber'], ordered=False)"
      ]
     },
     "execution_count": 279,
     "metadata": {},
     "output_type": "execute_result"
    }
   ],
   "source": [
    "df_copy['user_type'].dtype"
   ]
  },
  {
   "cell_type": "markdown",
   "metadata": {},
   "source": [
    "**Define**\n",
    "\n",
    "Change `member_gender`'s datatype from `category` to `object`."
   ]
  },
  {
   "cell_type": "markdown",
   "metadata": {},
   "source": [
    "**Code**"
   ]
  },
  {
   "cell_type": "code",
   "execution_count": 280,
   "metadata": {},
   "outputs": [],
   "source": [
    "cats = pd.api.types.CategoricalDtype(ordered = True, categories = ['Male', 'Female', 'Other'])\n",
    "\n",
    "df_copy['member_gender'] = df_copy['member_gender'].astype(cats)"
   ]
  },
  {
   "cell_type": "markdown",
   "metadata": {},
   "source": [
    "**Test**"
   ]
  },
  {
   "cell_type": "code",
   "execution_count": 281,
   "metadata": {},
   "outputs": [
    {
     "data": {
      "text/plain": [
       "CategoricalDtype(categories=['Male', 'Female', 'Other'], ordered=True)"
      ]
     },
     "execution_count": 281,
     "metadata": {},
     "output_type": "execute_result"
    }
   ],
   "source": [
    "df_copy['member_gender'].dtype"
   ]
  },
  {
   "cell_type": "markdown",
   "metadata": {},
   "source": [
    "**Define**\n",
    "\n",
    "Change `bike_share_for_all_trip`'s datatype from `object` to `category`."
   ]
  },
  {
   "cell_type": "markdown",
   "metadata": {},
   "source": [
    "**Code**"
   ]
  },
  {
   "cell_type": "code",
   "execution_count": 282,
   "metadata": {},
   "outputs": [],
   "source": [
    "cats = pd.api.types.CategoricalDtype(ordered = True, categories = ['Yes', 'No'])\n",
    "\n",
    "df_copy['bike_share_for_all_trip'] = df_copy['bike_share_for_all_trip'].astype(cats)"
   ]
  },
  {
   "cell_type": "markdown",
   "metadata": {},
   "source": [
    "**Test**"
   ]
  },
  {
   "cell_type": "code",
   "execution_count": 283,
   "metadata": {},
   "outputs": [
    {
     "data": {
      "text/plain": [
       "CategoricalDtype(categories=['Yes', 'No'], ordered=True)"
      ]
     },
     "execution_count": 283,
     "metadata": {},
     "output_type": "execute_result"
    }
   ],
   "source": [
    "df_copy['bike_share_for_all_trip'].dtype"
   ]
  },
  {
   "cell_type": "markdown",
   "metadata": {},
   "source": [
    "**Define**\n",
    "\n",
    "Convert `start_station_name` and `end_station_name`'s datatypes from `object` to `category`."
   ]
  },
  {
   "cell_type": "markdown",
   "metadata": {},
   "source": [
    "**Code**"
   ]
  },
  {
   "cell_type": "code",
   "execution_count": 284,
   "metadata": {},
   "outputs": [],
   "source": [
    "df_copy['start_station_name'] = df_copy['start_station_name'].astype('category')\n",
    "df_copy['end_station_name'] = df_copy['end_station_name'].astype('category')"
   ]
  },
  {
   "cell_type": "markdown",
   "metadata": {},
   "source": [
    "**Test**"
   ]
  },
  {
   "cell_type": "code",
   "execution_count": 285,
   "metadata": {},
   "outputs": [
    {
     "data": {
      "text/plain": [
       "start_station_name    category\n",
       "end_station_name      category\n",
       "dtype: object"
      ]
     },
     "execution_count": 285,
     "metadata": {},
     "output_type": "execute_result"
    }
   ],
   "source": [
    "df_copy[['start_station_name', 'end_station_name']].dtypes"
   ]
  },
  {
   "cell_type": "markdown",
   "metadata": {},
   "source": [
    "**Define**\n",
    "\n",
    "Join the `start_station_name` and the `end_station_name` and store the resulting string in a new column named `route`."
   ]
  },
  {
   "cell_type": "markdown",
   "metadata": {},
   "source": [
    "**Code**"
   ]
  },
  {
   "cell_type": "code",
   "execution_count": 286,
   "metadata": {},
   "outputs": [],
   "source": [
    "df_copy['route'] = df_copy['start_station_name'].astype(str) + '->' + df_copy['end_station_name'].astype(str)"
   ]
  },
  {
   "cell_type": "markdown",
   "metadata": {},
   "source": [
    "**Test**"
   ]
  },
  {
   "cell_type": "code",
   "execution_count": 287,
   "metadata": {},
   "outputs": [
    {
     "data": {
      "text/plain": [
       "4           Frank H Ogawa Plaza->10th Ave at E 15th St\n",
       "5     4th St at Mission Bay Blvd S->Broadway at Kearny\n",
       "6       Palm St at Willow St->San Jose Diridon Station\n",
       "7    Washington St at Kearny St->Valencia St at 21s...\n",
       "8    Washington St at Kearny St->Valencia St at 21s...\n",
       "Name: route, dtype: object"
      ]
     },
     "execution_count": 287,
     "metadata": {},
     "output_type": "execute_result"
    }
   ],
   "source": [
    "df_copy['route'].head()"
   ]
  },
  {
   "cell_type": "markdown",
   "metadata": {},
   "source": [
    "Finally, export the cleaned dataset to `csv` file."
   ]
  },
  {
   "cell_type": "code",
   "execution_count": 288,
   "metadata": {},
   "outputs": [],
   "source": [
    "df_copy.to_csv('clean.csv', index = False)"
   ]
  },
  {
   "cell_type": "markdown",
   "metadata": {},
   "source": [
    "# Data Analysis\n",
    "---"
   ]
  },
  {
   "cell_type": "code",
   "execution_count": 375,
   "metadata": {},
   "outputs": [],
   "source": [
    "df = pd.read_csv('clean.csv')"
   ]
  },
  {
   "cell_type": "code",
   "execution_count": 376,
   "metadata": {},
   "outputs": [
    {
     "data": {
      "text/plain": [
       "(173513, 22)"
      ]
     },
     "execution_count": 376,
     "metadata": {},
     "output_type": "execute_result"
    }
   ],
   "source": [
    "df.shape"
   ]
  },
  {
   "cell_type": "code",
   "execution_count": 377,
   "metadata": {},
   "outputs": [
    {
     "data": {
      "text/plain": [
       "('2019-02-01 00:00:20.636', '2019-02-28 23:59:18.548')"
      ]
     },
     "execution_count": 377,
     "metadata": {},
     "output_type": "execute_result"
    }
   ],
   "source": [
    "df['start_time'].min(), df['start_time'].max()"
   ]
  },
  {
   "cell_type": "code",
   "execution_count": 378,
   "metadata": {},
   "outputs": [],
   "source": [
    "df = df[['duration_min', 'hour_of_day', 'start_station_name', 'end_station_name', 'route', 'bike_id', 'user_type', 'user_age', 'age_range',\n",
    "         'member_gender', 'bike_share_for_all_trip']]"
   ]
  },
  {
   "cell_type": "code",
   "execution_count": 379,
   "metadata": {},
   "outputs": [
    {
     "data": {
      "text/html": [
       "<div>\n",
       "<style scoped>\n",
       "    .dataframe tbody tr th:only-of-type {\n",
       "        vertical-align: middle;\n",
       "    }\n",
       "\n",
       "    .dataframe tbody tr th {\n",
       "        vertical-align: top;\n",
       "    }\n",
       "\n",
       "    .dataframe thead th {\n",
       "        text-align: right;\n",
       "    }\n",
       "</style>\n",
       "<table border=\"1\" class=\"dataframe\">\n",
       "  <thead>\n",
       "    <tr style=\"text-align: right;\">\n",
       "      <th></th>\n",
       "      <th>duration_min</th>\n",
       "      <th>hour_of_day</th>\n",
       "      <th>start_station_name</th>\n",
       "      <th>end_station_name</th>\n",
       "      <th>route</th>\n",
       "      <th>bike_id</th>\n",
       "      <th>user_type</th>\n",
       "      <th>user_age</th>\n",
       "      <th>age_range</th>\n",
       "      <th>member_gender</th>\n",
       "      <th>bike_share_for_all_trip</th>\n",
       "    </tr>\n",
       "  </thead>\n",
       "  <tbody>\n",
       "    <tr>\n",
       "      <th>0</th>\n",
       "      <td>26.4</td>\n",
       "      <td>23</td>\n",
       "      <td>Frank H Ogawa Plaza</td>\n",
       "      <td>10th Ave at E 15th St</td>\n",
       "      <td>Frank H Ogawa Plaza-&gt;10th Ave at E 15th St</td>\n",
       "      <td>4898</td>\n",
       "      <td>Subscriber</td>\n",
       "      <td>46</td>\n",
       "      <td>40-50</td>\n",
       "      <td>Male</td>\n",
       "      <td>Yes</td>\n",
       "    </tr>\n",
       "    <tr>\n",
       "      <th>1</th>\n",
       "      <td>30.0</td>\n",
       "      <td>23</td>\n",
       "      <td>4th St at Mission Bay Blvd S</td>\n",
       "      <td>Broadway at Kearny</td>\n",
       "      <td>4th St at Mission Bay Blvd S-&gt;Broadway at Kearny</td>\n",
       "      <td>5200</td>\n",
       "      <td>Subscriber</td>\n",
       "      <td>61</td>\n",
       "      <td>60-70</td>\n",
       "      <td>Male</td>\n",
       "      <td>No</td>\n",
       "    </tr>\n",
       "    <tr>\n",
       "      <th>2</th>\n",
       "      <td>19.2</td>\n",
       "      <td>23</td>\n",
       "      <td>Palm St at Willow St</td>\n",
       "      <td>San Jose Diridon Station</td>\n",
       "      <td>Palm St at Willow St-&gt;San Jose Diridon Station</td>\n",
       "      <td>3803</td>\n",
       "      <td>Subscriber</td>\n",
       "      <td>37</td>\n",
       "      <td>30-40</td>\n",
       "      <td>Female</td>\n",
       "      <td>No</td>\n",
       "    </tr>\n",
       "    <tr>\n",
       "      <th>3</th>\n",
       "      <td>27.0</td>\n",
       "      <td>23</td>\n",
       "      <td>Washington St at Kearny St</td>\n",
       "      <td>Valencia St at 21st St</td>\n",
       "      <td>Washington St at Kearny St-&gt;Valencia St at 21s...</td>\n",
       "      <td>6329</td>\n",
       "      <td>Subscriber</td>\n",
       "      <td>31</td>\n",
       "      <td>30-40</td>\n",
       "      <td>Male</td>\n",
       "      <td>No</td>\n",
       "    </tr>\n",
       "    <tr>\n",
       "      <th>4</th>\n",
       "      <td>26.4</td>\n",
       "      <td>23</td>\n",
       "      <td>Washington St at Kearny St</td>\n",
       "      <td>Valencia St at 21st St</td>\n",
       "      <td>Washington St at Kearny St-&gt;Valencia St at 21s...</td>\n",
       "      <td>6548</td>\n",
       "      <td>Subscriber</td>\n",
       "      <td>32</td>\n",
       "      <td>30-40</td>\n",
       "      <td>Other</td>\n",
       "      <td>No</td>\n",
       "    </tr>\n",
       "  </tbody>\n",
       "</table>\n",
       "</div>"
      ],
      "text/plain": [
       "   duration_min  hour_of_day            start_station_name  \\\n",
       "0          26.4           23           Frank H Ogawa Plaza   \n",
       "1          30.0           23  4th St at Mission Bay Blvd S   \n",
       "2          19.2           23          Palm St at Willow St   \n",
       "3          27.0           23    Washington St at Kearny St   \n",
       "4          26.4           23    Washington St at Kearny St   \n",
       "\n",
       "           end_station_name  \\\n",
       "0     10th Ave at E 15th St   \n",
       "1        Broadway at Kearny   \n",
       "2  San Jose Diridon Station   \n",
       "3    Valencia St at 21st St   \n",
       "4    Valencia St at 21st St   \n",
       "\n",
       "                                               route  bike_id   user_type  \\\n",
       "0         Frank H Ogawa Plaza->10th Ave at E 15th St     4898  Subscriber   \n",
       "1   4th St at Mission Bay Blvd S->Broadway at Kearny     5200  Subscriber   \n",
       "2     Palm St at Willow St->San Jose Diridon Station     3803  Subscriber   \n",
       "3  Washington St at Kearny St->Valencia St at 21s...     6329  Subscriber   \n",
       "4  Washington St at Kearny St->Valencia St at 21s...     6548  Subscriber   \n",
       "\n",
       "   user_age age_range member_gender bike_share_for_all_trip  \n",
       "0        46     40-50          Male                     Yes  \n",
       "1        61     60-70          Male                      No  \n",
       "2        37     30-40        Female                      No  \n",
       "3        31     30-40          Male                      No  \n",
       "4        32     30-40         Other                      No  "
      ]
     },
     "execution_count": 379,
     "metadata": {},
     "output_type": "execute_result"
    }
   ],
   "source": [
    "df.head()"
   ]
  },
  {
   "cell_type": "markdown",
   "metadata": {},
   "source": [
    "## Univariate Analysis\n",
    "---"
   ]
  },
  {
   "cell_type": "markdown",
   "metadata": {},
   "source": [
    "Here we aim to uncover the patterns that are present in the distribution of the variables."
   ]
  },
  {
   "cell_type": "code",
   "execution_count": 380,
   "metadata": {},
   "outputs": [
    {
     "data": {
      "image/png": "[encoded data removed]",
      "text/plain": [
       "<Figure size 1440x576 with 1 Axes>"
      ]
     },
     "metadata": {
      "needs_background": "light"
     },
     "output_type": "display_data"
    }
   ],
   "source": [
    "bins = np.arange(df['duration_min'].min(), df['duration_min'].max() + 1, 1)\n",
    "\n",
    "plt.figure(figsize = (20, 8))\n",
    "\n",
    "plt.hist(data = df, x = 'duration_min', bins = bins)\n",
    "\n",
    "ticks = [x for x in range(0, 65, 5)]\n",
    "\n",
    "plt.xticks(ticks, ticks)\n",
    "\n",
    "plt.title('Distribution of Rides Durations')\n",
    "plt.xlabel('Duration (Mins)');"
   ]
  },
  {
   "cell_type": "markdown",
   "metadata": {},
   "source": [
    "Here we notice that the bulk of the time spent was in the 5 to 10-minute range, with the distribution continuously decreasing as the time spent using the bike gets longer."
   ]
  },
  {
   "cell_type": "code",
   "execution_count": 299,
   "metadata": {},
   "outputs": [
    {
     "data": {
      "image/png": "[encoded data removed]",
      "text/plain": [
       "<Figure size 1440x576 with 1 Axes>"
      ]
     },
     "metadata": {
      "needs_background": "light"
     },
     "output_type": "display_data"
    }
   ],
   "source": [
    "bins = np.arange(0, 24, 1)\n",
    "\n",
    "plt.figure(figsize = (20, 8))\n",
    "\n",
    "plt.hist(data = df, x = 'hour_of_day', bins = bins)\n",
    "\n",
    "ticks = [i for i in range(24)]\n",
    "\n",
    "plt.title('Distribution of Rides Through Hours of Day')\n",
    "plt.xlabel('Hour of Day')\n",
    "plt.xticks(ticks, ticks);"
   ]
  },
  {
   "cell_type": "markdown",
   "metadata": {},
   "source": [
    "From this plot, we notice that the heighest usage hour was in the 8 o'clock in the morning as well as the 5 o'clock in the afternoon, which suggests that probably most of the users are using the service to commute to work."
   ]
  },
  {
   "cell_type": "code",
   "execution_count": 92,
   "metadata": {},
   "outputs": [
    {
     "data": {
      "image/png": "[encoded data removed]",
      "text/plain": [
       "<Figure size 432x288 with 1 Axes>"
      ]
     },
     "metadata": {
      "needs_background": "light"
     },
     "output_type": "display_data"
    }
   ],
   "source": [
    "bins = np.arange(0, df['user_age'].max() + 1, 1)\n",
    "\n",
    "plt.hist(data = df, x = 'user_age', bins = bins)\n",
    "\n",
    "plt.xlim((df['user_age'].min(), 100))\n",
    "\n",
    "plt.title('Distribution of User Ages')\n",
    "plt.xlabel('Ages');"
   ]
  },
  {
   "cell_type": "code",
   "execution_count": 340,
   "metadata": {},
   "outputs": [
    {
     "data": {
      "image/png": "[encoded data removed]",
      "text/plain": [
       "<Figure size 432x288 with 1 Axes>"
      ]
     },
     "metadata": {
      "needs_background": "light"
     },
     "output_type": "display_data"
    }
   ],
   "source": [
    "base_color = sb.color_palette()[0]\n",
    "\n",
    "sb.countplot(data = df, x = 'age_range', order = age_ranges_labels, color = base_color);"
   ]
  },
  {
   "cell_type": "markdown",
   "metadata": {},
   "source": [
    "From the two previous plots we notice that the bulk of our users are in the age range of 20 to 40 years of age."
   ]
  },
  {
   "cell_type": "code",
   "execution_count": 76,
   "metadata": {},
   "outputs": [
    {
     "data": {
      "image/png": "[encoded data removed]",
      "text/plain": [
       "<Figure size 360x360 with 1 Axes>"
      ]
     },
     "metadata": {
      "needs_background": "light"
     },
     "output_type": "display_data"
    }
   ],
   "source": [
    "type_count = df['user_type'].value_counts()\n",
    "\n",
    "type_props = round(type_count / df.shape[0], 2)\n",
    "\n",
    "\n",
    "plt.figure(figsize = (5, 5))\n",
    "\n",
    "plt.bar(np.arange(0, len(type_count)), type_props)\n",
    "\n",
    "\n",
    "for i in range(len(type_props)):\n",
    "\n",
    "    plt.text(i, type_props[i] + 0.01, str(type_props[i]*100) + '%', ha = 'center')\n",
    "\n",
    "\n",
    "plt.title('Customers vs. Subscribers')\n",
    "plt.xlabel('User Type')\n",
    "plt.xticks(np.arange(0, len(type_count)), type_count.index);"
   ]
  },
  {
   "cell_type": "markdown",
   "metadata": {},
   "source": [
    "**91%** of the users are **Subscribers** and **9%** are **Customers**."
   ]
  },
  {
   "cell_type": "code",
   "execution_count": 77,
   "metadata": {
    "scrolled": false
   },
   "outputs": [
    {
     "data": {
      "image/png": "[encoded data removed]",
      "text/plain": [
       "<Figure size 576x576 with 1 Axes>"
      ]
     },
     "metadata": {
      "needs_background": "light"
     },
     "output_type": "display_data"
    }
   ],
   "source": [
    "gender_count = df['member_gender'].value_counts()\n",
    "\n",
    "gender_props = round(gender_count / df.shape[0], 2)\n",
    "\n",
    "plt.figure(figsize = (8, 8))\n",
    "\n",
    "plt.bar(np.arange(0, len(gender_count)), gender_props)\n",
    "\n",
    "for i in range(len(gender_props)):\n",
    "\n",
    "    plt.text(i, gender_props[i] + 0.01, str(gender_props[i]*100) + '%', ha = 'center')\n",
    "\n",
    "\n",
    "plt.title('Gender Proportions')\n",
    "plt.xlabel('Gender')\n",
    "plt.xticks(np.arange(0, len(gender_count)), gender_count.index);"
   ]
  },
  {
   "cell_type": "markdown",
   "metadata": {},
   "source": [
    "Males constitute three quarters of the dataset, while females constitute 23% and 2% for **Others**."
   ]
  },
  {
   "cell_type": "code",
   "execution_count": 78,
   "metadata": {},
   "outputs": [
    {
     "data": {
      "image/png": "[encoded data removed]",
      "text/plain": [
       "<Figure size 576x576 with 1 Axes>"
      ]
     },
     "metadata": {
      "needs_background": "light"
     },
     "output_type": "display_data"
    }
   ],
   "source": [
    "bike_share_count = df['bike_share_for_all_trip'].value_counts()\n",
    "\n",
    "bike_share_props = round(bike_share_count / df.shape[0], 2)\n",
    "\n",
    "plt.figure(figsize = (8, 8))\n",
    "\n",
    "\n",
    "\n",
    "plt.bar(np.arange(0, len(bike_share_count)), bike_share_props)\n",
    "\n",
    "for i in range(len(bike_share_props)):\n",
    "\n",
    "    plt.text(i, bike_share_props[i] + 0.01, str(bike_share_props[i]*100) + '%', ha = 'center')\n",
    "\n",
    "\n",
    "plt.title('Bike Share for All Trip Proportions')\n",
    "plt.xlabel('Status')\n",
    "plt.xticks(np.arange(0, len(bike_share_count)), bike_share_count.index);"
   ]
  },
  {
   "cell_type": "markdown",
   "metadata": {},
   "source": [
    "The plot shows that **90%** of the bikes are **not** part of a bike sharing program, while **10%** are."
   ]
  },
  {
   "cell_type": "code",
   "execution_count": 307,
   "metadata": {},
   "outputs": [
    {
     "data": {
      "image/png": "[encoded data removed]",
      "text/plain": [
       "<Figure size 720x504 with 1 Axes>"
      ]
     },
     "metadata": {
      "needs_background": "light"
     },
     "output_type": "display_data"
    }
   ],
   "source": [
    "most_used_start_stations = df['start_station_name'].value_counts()[0:20]\n",
    "\n",
    "base_color = sb.color_palette()[0]\n",
    "\n",
    "plt.figure(figsize = (10, 7))\n",
    "\n",
    "sb.barplot(data = df, y = most_used_start_stations.index, x = most_used_start_stations, color = base_color)\n",
    "\n",
    "for i in range(len(most_used_start_stations)):\n",
    "    plt.text(most_used_start_stations[i], i, str(most_used_start_stations[i]), va = 'center')\n",
    "\n",
    "plt.title('Top 20 Stations as Trip Origin')\n",
    "plt.ylabel('Station')\n",
    "plt.xlabel('Count');"
   ]
  },
  {
   "cell_type": "code",
   "execution_count": 306,
   "metadata": {},
   "outputs": [
    {
     "data": {
      "image/png": "[encoded data removed]",
      "text/plain": [
       "<Figure size 720x504 with 1 Axes>"
      ]
     },
     "metadata": {
      "needs_background": "light"
     },
     "output_type": "display_data"
    }
   ],
   "source": [
    "most_used_end_stations = df['end_station_name'].value_counts()[0:20]\n",
    "\n",
    "base_color = sb.color_palette()[0]\n",
    "\n",
    "plt.figure(figsize = (10, 7))\n",
    "\n",
    "sb.barplot(data = df, y = most_used_end_stations.index, x = most_used_end_stations, color = base_color)\n",
    "\n",
    "for i in range(len(most_used_end_stations)):\n",
    "    plt.text(most_used_end_stations[i], i, str(most_used_end_stations[i]), va = 'center')\n",
    "\n",
    "plt.title('Top 20 Stations as Trip Destination')\n",
    "plt.ylabel('Station')\n",
    "plt.xlabel('Count');"
   ]
  },
  {
   "cell_type": "code",
   "execution_count": 219,
   "metadata": {},
   "outputs": [
    {
     "data": {
      "image/png": "[encoded data removed]",
      "text/plain": [
       "<Figure size 720x504 with 1 Axes>"
      ]
     },
     "metadata": {
      "needs_background": "light"
     },
     "output_type": "display_data"
    }
   ],
   "source": [
    "most_used_routes = df['route'].value_counts()[0:20]\n",
    "\n",
    "base_color = sb.color_palette()[0]\n",
    "\n",
    "plt.figure(figsize = (10, 7))\n",
    "\n",
    "sb.barplot(data = df, y = most_used_routes.index, x = most_used_routes, color = base_color)\n",
    "\n",
    "for i in range(len(most_used_routes)):\n",
    "    plt.text(most_used_routes[i], i, str(most_used_routes[i]), va = 'center')\n",
    "\n",
    "plt.title('20 Most Popular Routes')\n",
    "plt.ylabel('Routes (from) -> (to)')\n",
    "plt.xlabel('Count');"
   ]
  },
  {
   "cell_type": "code",
   "execution_count": 342,
   "metadata": {},
   "outputs": [
    {
     "data": {
      "text/plain": [
       "24.95893679436123"
      ]
     },
     "execution_count": 342,
     "metadata": {},
     "output_type": "execute_result"
    }
   ],
   "source": [
    "100 * most_used_start_stations.sum() / df.shape[0]"
   ]
  },
  {
   "cell_type": "code",
   "execution_count": 341,
   "metadata": {},
   "outputs": [
    {
     "data": {
      "text/plain": [
       "26.830266320102815"
      ]
     },
     "execution_count": 341,
     "metadata": {},
     "output_type": "execute_result"
    }
   ],
   "source": [
    "100 * most_used_end_stations.sum() / df.shape[0]"
   ]
  },
  {
   "cell_type": "code",
   "execution_count": 220,
   "metadata": {},
   "outputs": [
    {
     "data": {
      "text/plain": [
       "2.779618818186534"
      ]
     },
     "execution_count": 220,
     "metadata": {},
     "output_type": "execute_result"
    }
   ],
   "source": [
    "100 * most_used_routes.sum() / df.shape[0]"
   ]
  },
  {
   "cell_type": "markdown",
   "metadata": {},
   "source": [
    "The previous three plots showed the 20 most used stations as a trip origin, destinatin, and 20 most popular routes respectively.\n",
    "\n",
    "The 20 most used start stations make up about **25%** of the total trips count.\n",
    "\n",
    "The 20 most used end stations make up about **27%** of the total trips count.\n",
    "\n",
    "The 20 most used routes make up about **3%** of the total trips count."
   ]
  },
  {
   "cell_type": "markdown",
   "metadata": {},
   "source": [
    "## Bivariate Analysis\n",
    "---"
   ]
  },
  {
   "cell_type": "code",
   "execution_count": 85,
   "metadata": {},
   "outputs": [
    {
     "data": {
      "image/png": "[encoded data removed]",
      "text/plain": [
       "<Figure size 432x288 with 2 Axes>"
      ]
     },
     "metadata": {
      "needs_background": "light"
     },
     "output_type": "display_data"
    }
   ],
   "source": [
    "bins_x = np.arange(0, df['user_age'].max() + 5, 5)\n",
    "bins_y = np.arange(0, df['duration_min'].max() + 1, 1)\n",
    "\n",
    "plt.hist2d(data = df, x = 'user_age', y = 'duration_min', cmin = 0.5, cmap = 'viridis_r', bins = [bins_x, bins_y])\n",
    "\n",
    "plt.title('User Age vs. Duration')\n",
    "plt.xlabel('User Age')\n",
    "plt.ylabel('Duration (Mins)')\n",
    "plt.colorbar();"
   ]
  },
  {
   "cell_type": "markdown",
   "metadata": {},
   "source": [
    "From the previous heatmap we notice that most of the data points are concentrated in the duration of 5 to 15 minutes for users within age range of 20 to 40 years old."
   ]
  },
  {
   "cell_type": "code",
   "execution_count": 91,
   "metadata": {},
   "outputs": [
    {
     "data": {
      "image/png": "[encoded data removed]",
      "text/plain": [
       "<Figure size 1440x576 with 2 Axes>"
      ]
     },
     "metadata": {
      "needs_background": "light"
     },
     "output_type": "display_data"
    }
   ],
   "source": [
    "\n",
    "plt.figure(figsize = (20, 8))\n",
    "\n",
    "plt.subplot(1,2,1)\n",
    "sb.boxplot(data = df, x = 'member_gender', y = 'user_age')\n",
    "plt.title('User Age by Gender')\n",
    "plt.xlabel('Gender')\n",
    "plt.ylabel('Age')\n",
    "\n",
    "\n",
    "plt.subplot(1,2,2)\n",
    "sb.boxplot(data = df, x = 'member_gender', y = 'duration_min')\n",
    "plt.title('Duration by Gender')\n",
    "plt.xlabel('Gender')\n",
    "plt.ylabel('Duration (Mins)');"
   ]
  },
  {
   "cell_type": "markdown",
   "metadata": {},
   "source": [
    "For the two previous box plots, the first one suggest that males have a higher median than females when it comes to user ages, but not by too much, as for the second one, it suggest that females have a higher median than males when it comes to ride duration, again, by not much."
   ]
  },
  {
   "cell_type": "code",
   "execution_count": 94,
   "metadata": {},
   "outputs": [
    {
     "data": {
      "image/png": "[encoded data removed]",
      "text/plain": [
       "<Figure size 1440x576 with 2 Axes>"
      ]
     },
     "metadata": {
      "needs_background": "light"
     },
     "output_type": "display_data"
    }
   ],
   "source": [
    "\n",
    "plt.figure(figsize = (20, 8))\n",
    "\n",
    "plt.subplot(1,2,1)\n",
    "sb.boxplot(data = df, x = 'user_type', y = 'user_age')\n",
    "plt.title('User Age by Type')\n",
    "plt.xlabel('Type')\n",
    "plt.ylabel('Age')\n",
    "\n",
    "\n",
    "plt.subplot(1,2,2)\n",
    "sb.boxplot(data = df, x = 'user_type', y = 'duration_min')\n",
    "plt.title('Duration by Type')\n",
    "plt.xlabel('Type')\n",
    "plt.ylabel('Duration (Mins)');"
   ]
  },
  {
   "cell_type": "markdown",
   "metadata": {},
   "source": [
    "The previous box plots show that users of both types, Subscribers and Customers, both have about the same median when it comes to age, but customers have a higher median when it comes to duration."
   ]
  },
  {
   "cell_type": "code",
   "execution_count": 99,
   "metadata": {},
   "outputs": [
    {
     "data": {
      "image/png": "[encoded data removed]",
      "text/plain": [
       "<Figure size 432x288 with 1 Axes>"
      ]
     },
     "metadata": {
      "needs_background": "light"
     },
     "output_type": "display_data"
    }
   ],
   "source": [
    "sb.countplot(data = df, hue = 'member_gender', x = 'user_type')\n",
    "plt.title('Gender Count vs. User Type')\n",
    "plt.xlabel('Type')\n",
    "plt.legend(title = 'Gender');"
   ]
  },
  {
   "cell_type": "markdown",
   "metadata": {},
   "source": [
    "Gender count for subscribers is obviously higher for all genders than for customers, which makes sense since **91%** of users are Subscribers."
   ]
  },
  {
   "cell_type": "code",
   "execution_count": 158,
   "metadata": {},
   "outputs": [
    {
     "data": {
      "image/png": "[encoded data removed]",
      "text/plain": [
       "<Figure size 432x288 with 1 Axes>"
      ]
     },
     "metadata": {
      "needs_background": "light"
     },
     "output_type": "display_data"
    }
   ],
   "source": [
    "sb.countplot(data = df, hue = 'member_gender', x = 'bike_share_for_all_trip')\n",
    "plt.title('Gender Count vs. Bike Share For All')\n",
    "plt.xlabel('Bike Share For All')\n",
    "plt.legend(title = 'Gender');"
   ]
  },
  {
   "cell_type": "markdown",
   "metadata": {},
   "source": [
    "Same goes for this plot showing gender count amongst bikes that are part of a bike-sharing program versus those that aren't, the majority of the gender count goes to the **No** criteria, this makes sense since **90%** of the bikes are not enrolled in such program."
   ]
  },
  {
   "cell_type": "markdown",
   "metadata": {},
   "source": [
    "## Multivariate Analysis\n",
    "---"
   ]
  },
  {
   "cell_type": "markdown",
   "metadata": {},
   "source": [
    "Here we aim to see relationships between multiple variables."
   ]
  },
  {
   "cell_type": "code",
   "execution_count": 212,
   "metadata": {},
   "outputs": [
    {
     "data": {
      "image/png": "[encoded data removed]",
      "text/plain": [
       "<Figure size 1080x360 with 3 Axes>"
      ]
     },
     "metadata": {
      "needs_background": "light"
     },
     "output_type": "display_data"
    }
   ],
   "source": [
    "g = sb.FacetGrid(data = df, col = 'member_gender', height = 5, margin_titles = True)\n",
    "g.map(sb.barplot, 'duration_min', 'age_range', order = age_ranges_labels[1:])\n",
    "\n",
    "[g.axes.flat[i].set_xlabel('Duration (Mins)') for i  in range(len(g.axes.flat))]\n",
    "\n",
    "g.axes.flat[0].set_ylabel('Age')\n",
    "\n",
    "[plt.setp(ax.texts, text=\"\") for ax in g.axes.flat]\n",
    "\n",
    "g.set_titles(row_template = '{row_name}', col_template = '{col_name}')\n",
    "\n",
    "plt.subplots_adjust(top=0.85)\n",
    "g.fig.suptitle('Duration vs. Age Ranges By Gender');"
   ]
  },
  {
   "cell_type": "markdown",
   "metadata": {},
   "source": [
    "The highest average duration taken by a male age group was that of age range 60-70 with 12 minutes, followed by 10-20 and 70-80 years with about 11 minutes.\n",
    "\n",
    "As for females, the age group with the highest duration was the group with age range 10-20 with an average duration of about 15 minutes, followed by the 60-70 age group with a duration of about 12 minutes, with no female datapoints for ages greater than 90."
   ]
  },
  {
   "cell_type": "code",
   "execution_count": 211,
   "metadata": {},
   "outputs": [
    {
     "data": {
      "image/png": "[encoded data removed]",
      "text/plain": [
       "<Figure size 864x864 with 4 Axes>"
      ]
     },
     "metadata": {
      "needs_background": "light"
     },
     "output_type": "display_data"
    }
   ],
   "source": [
    "g = sb.FacetGrid(data = df, col = 'user_type', row = 'bike_share_for_all_trip', margin_titles = True, height = 6)\n",
    "g.map(sb.countplot, 'member_gender', order = ['Male', 'Female', 'Other'])\n",
    "\n",
    "\n",
    "[plt.setp(ax.texts, text=\"\") for ax in g.axes.flat]\n",
    "\n",
    "[g.axes[1][i].set_xlabel('Gender') for i  in range(len(g.axes[0]))]\n",
    "\n",
    "\n",
    "g.set_titles(row_template = '{row_name}', col_template = '{col_name}')\n",
    "\n",
    "\n",
    "plt.subplots_adjust(top=0.9)\n",
    "g.fig.suptitle('Gender Count By User Type');"
   ]
  },
  {
   "cell_type": "markdown",
   "metadata": {},
   "source": [
    "This multivariate plot shows the distribution of users' genders among user types and bike share program, there are no users of type customers with bike-share programs.\n",
    "\n",
    "Gender count was almost the same with users that are subscribers using bikes that are part of bike-sharing program and users that are customers using bikes that are not a part of bike-sharing program.\n",
    "\n",
    "The bulk of the gender counts where users that are subscribers and not using a bike-sharing program bike."
   ]
  },
  {
   "cell_type": "code",
   "execution_count": 210,
   "metadata": {},
   "outputs": [
    {
     "data": {
      "image/png": "[encoded data removed]",
      "text/plain": [
       "<Figure size 1080x720 with 6 Axes>"
      ]
     },
     "metadata": {
      "needs_background": "light"
     },
     "output_type": "display_data"
    }
   ],
   "source": [
    "g = sb.FacetGrid(data = df, col = 'member_gender', row = 'user_type', margin_titles = True, height = 5)\n",
    "\n",
    "bins_x = np.arange(0, df['user_age'].max() + 5, 5)\n",
    "bins_y = np.arange(0, df['duration_min'].max() + 1, 1)\n",
    "\n",
    "def plotGrid(x, y, **kwargs):\n",
    "    plt.hist2d(x, y, cmin = 0.5, cmap = 'viridis_r', bins = [bins_x, bins_y])\n",
    "\n",
    "\n",
    "g.map(plotGrid, 'user_age', 'duration_min')\n",
    "\n",
    "[plt.setp(ax.texts, text=\"\") for ax in g.axes.flat]\n",
    "\n",
    "[g.axes[1][i].set_xlabel('Age') for i  in range(len(g.axes[0]))]\n",
    "[g.axes[i][0].set_ylabel('Duration (Mins)') for i  in range(len(g.axes))]\n",
    "\n",
    "g.set_titles(row_template = '{row_name}', col_template = '{col_name}')\n",
    "\n",
    "plt.subplots_adjust(top=0.9)\n",
    "g.fig.suptitle('Duration vs Age By Gender and User Type');"
   ]
  },
  {
   "cell_type": "markdown",
   "metadata": {},
   "source": [
    "This plot shows a heatmap of age against duration of trip subsetted by user type and gender.\n",
    "\n",
    "We notice that the data is concentrated in about the same place, but with small shifts for the center, for example, we notice that duration for females who are customers is higher than for females .who are subscribers, we also notice that males who are subscribers take the age range of about 25 to 35 years, while those who are customers take the age range of 30 to 35 years."
   ]
  },
  {
   "cell_type": "markdown",
   "metadata": {},
   "source": [
    "# Resources\n",
    "---"
   ]
  },
  {
   "cell_type": "markdown",
   "metadata": {},
   "source": [
    "All of the code and datasets for this project are included on a [Github Repository](https://github.com/AbdulrahmanAlobaidy/DAND-project-5) dedicated for this project, including this Notebook in its `ipynb` and HTML format as well as any other relevant files."
   ]
  }
 ],
 "metadata": {
  "kernelspec": {
   "display_name": "Python 3",
   "language": "python",
   "name": "python3"
  },
  "language_info": {
   "codemirror_mode": {
    "name": "ipython",
    "version": 3
   },
   "file_extension": ".py",
   "mimetype": "text/x-python",
   "name": "python",
   "nbconvert_exporter": "python",
   "pygments_lexer": "ipython3",
   "version": "3.6.12"
  }
 },
 "nbformat": 4,
 "nbformat_minor": 4
}
